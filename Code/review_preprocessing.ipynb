{
 "cells": [
  {
   "cell_type": "code",
   "execution_count": 2,
   "id": "ac0e5a54-3d07-4b14-94b8-71a3a30e56f8",
   "metadata": {},
   "outputs": [],
   "source": [
    "import pandas as pd\n",
    "import re"
   ]
  },
  {
   "cell_type": "code",
   "execution_count": 3,
   "id": "9c882082-71f7-4ae5-aa3a-94566c6a5354",
   "metadata": {},
   "outputs": [],
   "source": [
    "def preprocess_reviews_df(df, review_column):\n",
    "    \"\"\"\n",
    "    DataFrame에서 리뷰 데이터를 전처리하고 글자 수 5 이하인 리뷰를 삭제하는 함수.\n",
    "\n",
    "    Parameters:\n",
    "        df (pd.DataFrame): 리뷰 데이터가 포함된 DataFrame\n",
    "        review_column (str): 리뷰 텍스트가 포함된 열 이름\n",
    "\n",
    "    Returns:\n",
    "        pd.DataFrame: 전처리된 리뷰 데이터가 포함된 DataFrame\n",
    "    \"\"\"\n",
    "\n",
    "    def clean_text(text):\n",
    "        # \"더보기\" 텍스트 제거\n",
    "        text = text.replace(\"더보기\", \" \")\n",
    "        # 단자음/단모음 제거 (ㅎㅎㅎ, ㅋㅋㅋ, ㅠㅠ 제거)\n",
    "        text = re.sub(r\"[ㄱ-ㅎㅏ-ㅣ]+\", \" \", text)\n",
    "        # 허용된 문자(한글, 숫자, .!?, 특정 이모티콘)만 남김\n",
    "        text = re.sub(r\"[^\\w\\s가-힣0-9.!?⭐️😍🥰🩷🧡❤️💛🖤🤍💖💗💕♥️🫶👍👏😂🥲👎]\", \" \", text)\n",
    "        # 불필요한 공백 제거\n",
    "        text = re.sub(r\"\\s+\", \" \", text).strip()\n",
    "        return text\n",
    "\n",
    "    # 리뷰 데이터 전처리\n",
    "    df[review_column] = df[review_column].apply(clean_text)\n",
    "    \n",
    "    # 글자 수 5 이하인 리뷰 제거\n",
    "    df = df[df[review_column].str.len() > 5].copy()\n",
    "    \n",
    "    # 중복 제거\n",
    "    df = df.drop_duplicates(subset=[review_column]).reset_index(drop=True)\n",
    "    \n",
    "    return df\n",
    "\n",
    "# # 예시 데이터\n",
    "# data = {'review': [\"이 제품 너무 좋아요!!😍\", \"더보기\", \"ㅎㅎㅎㅎ\", \"최고!\", \"가성비가 좋네요. ⭐️\", \"추천!\"]}\n",
    "# df = pd.DataFrame(data)\n",
    "\n",
    "# # 전처리 수행\n",
    "# preprocessed_df = preprocess_reviews_df(df, \"review\")\n",
    "\n",
    "# # 결과 출력\n",
    "# print(preprocessed_df)"
   ]
  },
  {
   "cell_type": "code",
   "execution_count": 4,
   "id": "242dd29e-8de2-4fe7-884f-9193ec328a1b",
   "metadata": {},
   "outputs": [],
   "source": [
    "df1 = pd.read_csv('naver_crawling/경희대_naver_review.csv')\n",
    "df2 = pd.read_csv('aver_crawling/서강대_naver_review.csv')\n",
    "df3 = pd.read_csv('naver_crawling/시립대_naver_review.csv')\n",
    "df4 = pd.read_csv('naver_crawling/연세대_naver_review.csv')\n",
    "df5 = pd.read_csv('naver_crawling/외대_naver_review.csv')\n",
    "df6 = pd.read_csv('naver_crawling/이대_naver_review.csv')"
   ]
  },
  {
   "cell_type": "code",
   "execution_count": 5,
   "id": "46fade3c-af85-44c4-a5e2-fa9300438152",
   "metadata": {},
   "outputs": [],
   "source": [
    "naver = pd.concat([df1, df2, df3, df4, df5, df6])"
   ]
  },
  {
   "cell_type": "code",
   "execution_count": 6,
   "id": "14d7677c-e3ab-4a01-8c70-04a307871690",
   "metadata": {},
   "outputs": [],
   "source": [
    "preprocessed_naver = preprocess_reviews_df(naver, \"content\")"
   ]
  },
  {
   "cell_type": "code",
   "execution_count": 9,
   "id": "d0d6d28b-9e4e-494f-b518-c1e0042cc10c",
   "metadata": {},
   "outputs": [],
   "source": [
    "output_path = 'naver_review.csv'"
   ]
  },
  {
   "cell_type": "code",
   "execution_count": 10,
   "id": "e211ba0f-e9c7-425d-9939-c52d0fcccfa1",
   "metadata": {},
   "outputs": [],
   "source": [
    "preprocessed_naver.to_csv(output_path, index=False, encoding='utf-8-sig')"
   ]
  }
 ],
 "metadata": {
  "kernelspec": {
   "display_name": "Python (후반기)",
   "language": "python",
   "name": "myenv"
  },
  "language_info": {
   "codemirror_mode": {
    "name": "ipython",
    "version": 3
   },
   "file_extension": ".py",
   "mimetype": "text/x-python",
   "name": "python",
   "nbconvert_exporter": "python",
   "pygments_lexer": "ipython3",
   "version": "3.13.0"
  }
 },
 "nbformat": 4,
 "nbformat_minor": 5
}
