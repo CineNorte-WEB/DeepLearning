{
 "cells": [
  {
   "cell_type": "code",
   "execution_count": 1,
   "id": "2a1f148c-fd3f-4ae8-b99f-0ee978e38c85",
   "metadata": {},
   "outputs": [],
   "source": [
    "import os\n",
    "from openai import OpenAI \n",
    "from pydantic import BaseModel, Field\n",
    "import pandas as pd"
   ]
  },
  {
   "cell_type": "code",
   "execution_count": 2,
   "id": "2ce267cf-6a4d-4795-b827-cb380ab21063",
   "metadata": {},
   "outputs": [],
   "source": [
    "# OpenAI API 클라이언트 설정\n",
    "## Set the API key and model name\n",
    "api_key = \"your_api_key\"\n",
    "MODEL = \"gpt-4o-2024-08-06\"\n",
    "client = OpenAI(api_key=api_key)"
   ]
  },
  {
   "cell_type": "code",
   "execution_count": 3,
   "id": "e2b45922-6b4f-41f4-9f60-7668f00a79d3",
   "metadata": {},
   "outputs": [],
   "source": [
    "# Pydantic 모델 정의\n",
    "class Keyword(BaseModel):\n",
    "    keyword: str\n",
    "    sentiment: str"
   ]
  },
  {
   "cell_type": "code",
   "execution_count": 4,
   "id": "1ca21ced-008d-42e5-8dd6-86b77b2d7a2c",
   "metadata": {},
   "outputs": [],
   "source": [
    "class KeywordSentiment(BaseModel):\n",
    "    keywords: list[Keyword] = Field(..., description=\"List of extracted keywords with sentiments.\")"
   ]
  },
  {
   "cell_type": "code",
   "execution_count": 5,
   "id": "daba0b3e-d245-4eab-8520-27e136d433a7",
   "metadata": {},
   "outputs": [],
   "source": [
    "# CSV 파일 불러오기\n",
    "def load_csv(file_path):\n",
    "    try:\n",
    "        return pd.read_csv(file_path)\n",
    "    except FileNotFoundError:\n",
    "        print(f\"Error: File not found at {file_path}\")\n",
    "        raise\n",
    "    except Exception as e:\n",
    "        print(f\"Error loading CSV file: {e}\")\n",
    "        raise"
   ]
  },
  {
   "cell_type": "code",
   "execution_count": 10,
   "id": "facd50c1-3034-4b3b-9827-535969f97a20",
   "metadata": {},
   "outputs": [],
   "source": [
    "# OpenAI API를 사용하여 리뷰에서 키워드 추출 및 라벨링\n",
    "def analyze_review_content(content):\n",
    "    # if client is None:\n",
    "    #     print(\"OpenAI client is not initialized.\")\n",
    "    #     return None\n",
    "\n",
    "    prompt = f\"\"\"\n",
    "    Analyze the following restaurant review and extract 3-5 key phrases representing the review's aspects, such as taste, hygiene, service, and ambiance, in Korean. \n",
    "    For each phrase, classify its sentiment as Positive or Negative. Provide the output as a structured JSON format with this schema:\n",
    "    {{\"keywords\": [{{\"keyword\": \"<phrase>\", \"sentiment\": \"<Positive/Negative>\"}}, ...]}}\n",
    "\n",
    "    Review: {content}\n",
    "    \"\"\"\n",
    "\n",
    "\n",
    "    try:\n",
    "        completion = client.beta.chat.completions.parse(\n",
    "            model=MODEL,\n",
    "            messages=[\n",
    "                {\"role\": \"system\", \"content\": \"You are an assistant that extracts key keywords and their sentiments from restaurant reviews.\"},\n",
    "                {\"role\": \"user\", \"content\": prompt}\n",
    "            ],\n",
    "            response_format=KeywordSentiment,\n",
    "        )\n",
    "\n",
    "        parsed = completion.choices[0].message.parsed\n",
    "        return parsed.dict()  # Return as a dictionary\n",
    "\n",
    "    except Exception as e:\n",
    "        print(f\"Error processing content: {content}\\n{e}\")\n",
    "        return None"
   ]
  },
  {
   "cell_type": "code",
   "execution_count": 11,
   "id": "b8847f29-0637-4762-9cfd-5237636fd03a",
   "metadata": {},
   "outputs": [],
   "source": [
    "# 리뷰 데이터 전처리 및 키워드 추출 결과 저장\n",
    "def process_reviews(input_path, output_csv):\n",
    "    data = load_csv(input_path)\n",
    "\n",
    "    if 'Review' not in data.columns:\n",
    "        raise ValueError(\"The CSV file must contain a 'Review' column.\")\n",
    "\n",
    "    # 리뷰 처리 및 결과 수집\n",
    "    summaries = []\n",
    "    for _, row in data.iterrows():\n",
    "        review = row.get('Review', '')\n",
    "\n",
    "        # 내용이 비어있으면 건너뜀\n",
    "        if pd.isna(review) or not review.strip():\n",
    "            continue\n",
    "\n",
    "        analysis = analyze_review_content(review)\n",
    "        if analysis:\n",
    "            summaries.append({\n",
    "                \"review\": review,\n",
    "                \"keywords\": analysis.get(\"keywords\", []),\n",
    "            })\n",
    "\n",
    "    # 세부 평가 데이터를 행 단위로 변환\n",
    "    rows = []\n",
    "    for summary in summaries:\n",
    "        for keyword_data in summary[\"keywords\"]:\n",
    "            rows.append({\n",
    "                \"Review\": summary[\"review\"],\n",
    "                \"Keyword\": keyword_data[\"keyword\"],\n",
    "                \"Sentiment\": keyword_data[\"sentiment\"]\n",
    "            })\n",
    "\n",
    "    # 결과를 데이터프레임으로 생성\n",
    "    df_detailed_summary = pd.DataFrame(rows)\n",
    "\n",
    "    # 결과 미리보기\n",
    "    print(\"Generated Results Preview:\")\n",
    "    print(df_detailed_summary.head())\n",
    "\n",
    "    # 사용자 확인\n",
    "    save = input(\"Do you want to save the results? (yes/no): \").strip().lower()\n",
    "    if save == 'yes':\n",
    "        try:\n",
    "            df_detailed_summary.to_csv(output_csv, index=False, encoding=\"utf-8-sig\")\n",
    "            print(f\"Results saved to {output_csv}\")\n",
    "        except Exception as e:\n",
    "            print(f\"Error saving results: {e}\")\n",
    "            raise\n",
    "    else:\n",
    "        print(\"Results not saved.\")"
   ]
  },
  {
   "cell_type": "code",
   "execution_count": 13,
   "id": "febdcb4c-ecbf-4c82-8215-f5b29c6cc9bb",
   "metadata": {},
   "outputs": [
    {
     "name": "stdout",
     "output_type": "stream",
     "text": [
      "Generated Results Preview:\n",
      "                                  Review  Keyword Sentiment\n",
      "0                                최고의 김말이        맛  Positive\n",
      "1  예전엔 떡볶이가 안 그랬는데 신맛 추가오징어튀김의 오징어가 넘 작음      떡볶이  Negative\n",
      "2  예전엔 떡볶이가 안 그랬는데 신맛 추가오징어튀김의 오징어가 넘 작음       신맛  Negative\n",
      "3  예전엔 떡볶이가 안 그랬는데 신맛 추가오징어튀김의 오징어가 넘 작음  추가오징어튀김  Negative\n",
      "4  예전엔 떡볶이가 안 그랬는데 신맛 추가오징어튀김의 오징어가 넘 작음   오징어 크기  Negative\n"
     ]
    },
    {
     "name": "stdin",
     "output_type": "stream",
     "text": [
      "Do you want to save the results? (yes/no):  yes\n"
     ]
    },
    {
     "name": "stdout",
     "output_type": "stream",
     "text": [
      "Results saved to /Users/yooni/Desktop/TAVE/CamSlien/kakaomap review/이대_with_keywords.csv\n"
     ]
    }
   ],
   "source": [
    "# 실행 예시\n",
    "if __name__ == \"__main__\":\n",
    "    base_dir = os.getcwd()  # 현재 작업 디렉토리 경로\n",
    "\n",
    "    # 입력 파일 및 출력 파일 경로 설정\n",
    "    input_csv_path = os.path.join(base_dir, \"kakaomap review\", \"이대_reviews_finish.csv\")\n",
    "    output_csv_path = os.path.join(base_dir, \"kakaomap review\", \"이대_with_keywords.csv\")\n",
    "\n",
    "    # 출력 디렉토리 생성\n",
    "    os.makedirs(os.path.dirname(output_csv_path), exist_ok=True)\n",
    "\n",
    "    # 리뷰 데이터 처리\n",
    "    process_reviews(input_csv_path, output_csv_path)"
   ]
  },
  {
   "cell_type": "code",
   "execution_count": null,
   "id": "a223350c-9d1b-4b9b-939c-481b4f3e6ebd",
   "metadata": {},
   "outputs": [],
   "source": []
  }
 ],
 "metadata": {
  "kernelspec": {
   "display_name": "Python 3 (ipykernel)",
   "language": "python",
   "name": "python3"
  },
  "language_info": {
   "codemirror_mode": {
    "name": "ipython",
    "version": 3
   },
   "file_extension": ".py",
   "mimetype": "text/x-python",
   "name": "python",
   "nbconvert_exporter": "python",
   "pygments_lexer": "ipython3",
   "version": "3.11.5"
  }
 },
 "nbformat": 4,
 "nbformat_minor": 5
}
