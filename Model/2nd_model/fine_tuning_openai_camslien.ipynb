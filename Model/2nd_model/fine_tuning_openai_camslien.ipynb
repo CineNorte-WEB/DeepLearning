{
 "cells": [
  {
   "cell_type": "markdown",
   "metadata": {
    "id": "6x_keImToYD8"
   },
   "source": [
    "## 모델 학습 완료된 상태\n",
    "\n",
    "### 1. TEST 진행 시\n",
    "**해당 4 개의 셀만 클릭하여 돌리기**\n",
    "- `!pip install openai`\n",
    "- 라이브러리 설치\n",
    "- `client = ....`\n",
    "- 파인튜닝된 모델로 학습하기 셀\n",
    "\n",
    ": 숨겨진 셀은 열지 않아도 됩니당\n"
   ]
  },
  {
   "cell_type": "code",
   "execution_count": 1,
   "metadata": {
    "colab": {
     "base_uri": "https://localhost:8080/"
    },
    "collapsed": true,
    "executionInfo": {
     "elapsed": 7474,
     "status": "ok",
     "timestamp": 1736655591411,
     "user": {
      "displayName": "JIYOON OH",
      "userId": "10607774071577451844"
     },
     "user_tz": -540
    },
    "id": "dlVhIMZw36Wf",
    "outputId": "b951994d-4d1c-4d7d-ecdf-558d80a12463"
   },
   "outputs": [
    {
     "name": "stdout",
     "output_type": "stream",
     "text": [
      "Requirement already satisfied: openai in /usr/local/lib/python3.10/dist-packages (1.59.4)\n",
      "Requirement already satisfied: anyio<5,>=3.5.0 in /usr/local/lib/python3.10/dist-packages (from openai) (3.7.1)\n",
      "Requirement already satisfied: distro<2,>=1.7.0 in /usr/local/lib/python3.10/dist-packages (from openai) (1.9.0)\n",
      "Requirement already satisfied: httpx<1,>=0.23.0 in /usr/local/lib/python3.10/dist-packages (from openai) (0.28.1)\n",
      "Requirement already satisfied: jiter<1,>=0.4.0 in /usr/local/lib/python3.10/dist-packages (from openai) (0.8.2)\n",
      "Requirement already satisfied: pydantic<3,>=1.9.0 in /usr/local/lib/python3.10/dist-packages (from openai) (2.10.4)\n",
      "Requirement already satisfied: sniffio in /usr/local/lib/python3.10/dist-packages (from openai) (1.3.1)\n",
      "Requirement already satisfied: tqdm>4 in /usr/local/lib/python3.10/dist-packages (from openai) (4.67.1)\n",
      "Requirement already satisfied: typing-extensions<5,>=4.11 in /usr/local/lib/python3.10/dist-packages (from openai) (4.12.2)\n",
      "Requirement already satisfied: idna>=2.8 in /usr/local/lib/python3.10/dist-packages (from anyio<5,>=3.5.0->openai) (3.10)\n",
      "Requirement already satisfied: exceptiongroup in /usr/local/lib/python3.10/dist-packages (from anyio<5,>=3.5.0->openai) (1.2.2)\n",
      "Requirement already satisfied: certifi in /usr/local/lib/python3.10/dist-packages (from httpx<1,>=0.23.0->openai) (2024.12.14)\n",
      "Requirement already satisfied: httpcore==1.* in /usr/local/lib/python3.10/dist-packages (from httpx<1,>=0.23.0->openai) (1.0.7)\n",
      "Requirement already satisfied: h11<0.15,>=0.13 in /usr/local/lib/python3.10/dist-packages (from httpcore==1.*->httpx<1,>=0.23.0->openai) (0.14.0)\n",
      "Requirement already satisfied: annotated-types>=0.6.0 in /usr/local/lib/python3.10/dist-packages (from pydantic<3,>=1.9.0->openai) (0.7.0)\n",
      "Requirement already satisfied: pydantic-core==2.27.2 in /usr/local/lib/python3.10/dist-packages (from pydantic<3,>=1.9.0->openai) (2.27.2)\n"
     ]
    }
   ],
   "source": [
    "!pip install openai"
   ]
  },
  {
   "cell_type": "code",
   "execution_count": 2,
   "metadata": {
    "executionInfo": {
     "elapsed": 1948,
     "status": "ok",
     "timestamp": 1736655648053,
     "user": {
      "displayName": "JIYOON OH",
      "userId": "10607774071577451844"
     },
     "user_tz": -540
    },
    "id": "NxspnpEQAFQw"
   },
   "outputs": [],
   "source": [
    "from openai import OpenAI\n",
    "import json"
   ]
  },
  {
   "cell_type": "code",
   "execution_count": 3,
   "metadata": {
    "executionInfo": {
     "elapsed": 896,
     "status": "ok",
     "timestamp": 1736655650447,
     "user": {
      "displayName": "JIYOON OH",
      "userId": "10607774071577451844"
     },
     "user_tz": -540
    },
    "id": "9Klh_l3qBtkX"
   },
   "outputs": [],
   "source": [
    "client = OpenAI(api_key = \"Add your API key\")"
   ]
  },
  {
   "cell_type": "markdown",
   "metadata": {
    "id": "VaIl6lwjo4Ja"
   },
   "source": [
    "####Fine Tuning"
   ]
  },
  {
   "cell_type": "code",
   "execution_count": null,
   "metadata": {
    "colab": {
     "base_uri": "https://localhost:8080/"
    },
    "executionInfo": {
     "elapsed": 915,
     "status": "ok",
     "timestamp": 1736601818251,
     "user": {
      "displayName": "JIYOON OH",
      "userId": "10607774071577451844"
     },
     "user_tz": -540
    },
    "id": "ssZw7VyGeHB1",
    "outputId": "08afab04-399c-4845-98c2-877a1ee01893"
   },
   "outputs": [],
   "source": [
    "# 학습용 데이터 전송\n",
    "train_res = client.files.create(\n",
    "    file=open(\"train_data.jsonl\",\"rb\"),\n",
    "    purpose='fine-tune'\n",
    ")\n",
    "print(\"File ID:\", train_res.id)"
   ]
  },
  {
   "cell_type": "code",
   "execution_count": null,
   "metadata": {
    "colab": {
     "base_uri": "https://localhost:8080/"
    },
    "executionInfo": {
     "elapsed": 910,
     "status": "ok",
     "timestamp": 1736601820816,
     "user": {
      "displayName": "JIYOON OH",
      "userId": "10607774071577451844"
     },
     "user_tz": -540
    },
    "id": "vyYE5HzJASTX",
    "outputId": "d447ca2b-c85e-463b-ec6e-6380dd37980d"
   },
   "outputs": [],
   "source": [
    "# validation 데이터 전송\n",
    "val_res = client.files.create(\n",
    "    file=open(\"valid_data.jsonl\",\"rb\"),\n",
    "    purpose='fine-tune'\n",
    ")\n",
    "# 업로드된 파일의 ID 확인\n",
    "print(\"File ID:\", val_res.id)"
   ]
  },
  {
   "cell_type": "code",
   "execution_count": null,
   "metadata": {
    "id": "KZgmlbXECMSW"
   },
   "outputs": [],
   "source": [
    "# 파일 등록하여 받은 파일 ID로 파인튜닝 job을 생성\n",
    "fine_tune_response = client.fine_tuning.jobs.create(\n",
    "    training_file=train_res.id,\n",
    "    validation_file = val_res.id,\n",
    "    hyperparameters={\n",
    "      \"n_epochs\":  \"3\"\n",
    "  },\n",
    "    model=\"gpt-4o-mini-2024-07-18\"\n",
    ")"
   ]
  },
  {
   "cell_type": "code",
   "execution_count": null,
   "metadata": {
    "colab": {
     "base_uri": "https://localhost:8080/"
    },
    "executionInfo": {
     "elapsed": 541,
     "status": "ok",
     "timestamp": 1736602873558,
     "user": {
      "displayName": "JIYOON OH",
      "userId": "10607774071577451844"
     },
     "user_tz": -540
    },
    "id": "0TrhL-zbElL0",
    "outputId": "3af80b60-fe33-486a-bb65-93891def18d4"
   },
   "outputs": [
    {
     "name": "stdout",
     "output_type": "stream",
     "text": [
      "succeeded\n"
     ]
    }
   ],
   "source": [
    "# 특정 작업 상태 확인\n",
    "fine_tune_id = fine_tune_response.id\n",
    "status = client.fine_tuning.jobs.retrieve(fine_tune_id)\n",
    "print(status.status)"
   ]
  },
  {
   "cell_type": "code",
   "execution_count": null,
   "metadata": {
    "colab": {
     "base_uri": "https://localhost:8080/"
    },
    "executionInfo": {
     "elapsed": 272,
     "status": "ok",
     "timestamp": 1736602889142,
     "user": {
      "displayName": "JIYOON OH",
      "userId": "10607774071577451844"
     },
     "user_tz": -540
    },
    "id": "O4TNfD_MmQL7",
    "outputId": "65fad22a-3cdc-4854-fc5c-67ac0343e141"
   },
   "outputs": [],
   "source": [
    "print(status)"
   ]
  },
  {
   "cell_type": "markdown",
   "metadata": {
    "id": "0gbcG0Bro9To"
   },
   "source": [
    "#### TEST"
   ]
  },
  {
   "cell_type": "code",
   "execution_count": null,
   "metadata": {
    "colab": {
     "base_uri": "https://localhost:8080/"
    },
    "executionInfo": {
     "elapsed": 8874,
     "status": "ok",
     "timestamp": 1736603280935,
     "user": {
      "displayName": "JIYOON OH",
      "userId": "10607774071577451844"
     },
     "user_tz": -540
    },
    "id": "2rOy7_O_OT15",
    "outputId": "2af1876e-463b-4523-8b63-df155c6fdf84"
   },
   "outputs": [],
   "source": [
    "# 파인튜닝된 모델로 질문하기\n",
    "completion  = client.chat.completions.create(\n",
    "    model=\"Add your fine tuned model ID\",\n",
    "    messages=[\n",
    "        {\"role\":\"system\", \"content\":\"Analyze restaurant review keywords and classify them into appropriate categories among the five categories (맛, 서비스, 위생, 가성비, 분위기) based on their meanings and characteristics. For each category, generate a natural Korean sentence that summarizes the key points while maintaining the original sentiment and including specific details from the keywords\"},\n",
    "        {\"role\":\"user\", \"content\":\"Keywords: ['쫀득쫀득', '생크림빵', '포장제품 다양', '하나같이 맛있어요', '고로케', '빵', '빵도 싸면서 골고루 맛있어서', '슈크림 빵', '하얀크림빵', '빵 맛있다', '카드결제하기 미안할정도로 싸요', '생크림스틱 맛', '팥빙수', '멜론빵', '사장님이 알바생에게 점심 사주다', '다양한 종류의 빵', '마싯슴', '종류', '개인 빵집', '빵 맛도 좋네요', '재방문', '빵 종류', '빵집', '동네사람들', '음료도 팔고 있어서 좋음', '찹쌀꽈배기', '옛날 맛', '생크림스틱 부드럽고 포근하고 달달', '꿀꽈배기 빵 버전', '크림도넛', '방문 의사', '제가 좋아하는 곳이예요', '가격', '먹을만합니다', '다른 빵', '동네맛집', '메리 크리스마스', '컵 카스테라', '크림듬뿍들어간빵', '식빵', '가성비', '찹쌀 도너츠', '추억의 빵', '메론빵', '카스테라빵', '맛도좋고', '방문하는 빈도', '크림 도넛', '굿 여기빵 맛있구요', '맛 좋음', '가성비 좋은 빵집', '메론빵 맛', '에그타르트 생도넛 공갈빵 옛날 샐러드빵 당근빵', '크기', '바게트', '사장님 엄청 친절하시고', '가격대도 저렴허고', '투박하면서도 푸짐한', '가격도 너무 좋고', '패스츄리', '고구마 케이크', '맛있게 먹을게요', '쫄깃쫄깃', '친절한 사장님', '제가 좋아하는 곳', '맛도 있다', '양', '할미입맛 저격하는 빵', '빵도 사가', '기력회복', '재료도 안 아껴요', '이집의 인기매뉴 찹쌀생크림스틱', '크림빵', '3천원', '도너츠 나쁘지 않은', '빵피', '프랜차이즈 빵집에서 보기 드문', '시간이 남아', '맛이나 퀄리티', '빵 1200원', '살살 녹아요', '맛좋음', '맛있음', '자주 들리고 싶다', '케이크 맛있다', '가격 대비', '사라다빵', '아이들이 잘 먹었어요', '친절한 사장님과 사모님', '빵 맛', '빵이 여전히 맛있어요', '잡곡식빵도 고소하고', '부드럽다', '사라다 맛있어요', '맛있어요', '밤식빵', '맛나요', '너무 맛있었어요', '양도 많구', '손님이 북적', '잘한다', '재료 품질', '시원하게 한잔', '진짜 맛있어요', '맛있는집', '평소 맛있다', '저렴하다', '가격도 착하고', '한여름', '맛집', '호밀빵', '잡곡식빵', '추억을 자극하는', '가격 저렴', '샌드위치', '위치', '슈크림', '친절한 서비스', '맛', '빵 종류 다양하다', '강추', '단골집 등록', '언제든지 빵을 살 수 있다', '다른 빵들 맛있음', '재방문 기대', '소보르 좋아해', '싸고 맛있다', '가격이 저렴한', '가격 착해요', '크림도넛 만족도 높고 맛있었어요', '빵도 큰데 소화가 잘됨', '릴스 그 빵 생크림스틱', '생크림 듬뿍', '맛있었어요', '깨찰빵', '사장님친절', '한정수량', '빵 종류 다양', '친절', '맛있다', '부드러운 맛', '크로와상', '기대됩니다', '맛있게 잘 먹어왔는데', '친절하시고', '메론크림빵', '사장님 친절', '앙버터', '사장님', '흔치 않은', '빵 종류도 많고', '안에서 먹고', '다른 빵도 먹어보고 싶어요', '화이트롤 맛있음', '좋아하는 빵', '슈크림빵', '품질', '생크림 빵', '가격 저렴하다', '맘모스빵', '맛있는 빵', '직원 친절', '사라다빵 맛있다', '생크림스틱', '서비스', '재료를 아끼지 않음', '소금빵 바닥', '오란다빵 견과류', '생크림 스틱', '크림치즈 브레드 촉촉쫄깃 버터리', '빵종류가 많고', '미니샌드위치빵은 야채가 엄청싱싱하고', '예약', '생크림스틱빵 유명하다', '친절하세요', '직접 다 만들고']\"}\n",
    "    ]\n",
    ")\n",
    "print(completion.choices[0].message.content)"
   ]
  },
  {
   "cell_type": "markdown",
   "metadata": {
    "id": "SVTTX8kE311E"
   },
   "source": [
    "## 성능 평가 - BLEU & ROUGE\n",
    "\n",
    "#### 1. 카테고리 정확도\n",
    "\n",
    "- 모델이 제시한 카테고리가 실제 카테고리와 얼마나 일치하는지 평가\n",
    "- 카테고리 집합의 교집합 / 실제 카테고리 수\n",
    "\n",
    "\n",
    "#### 2. ROUGE 스코어\n",
    "\n",
    "- representative_sentence의 품질을 평가\n",
    "- ROUGE-1, ROUGE-2, ROUGE-L 점수를 계산\n",
    "- 각 카테고리별로 매칭되는 문장끼리 비교\n",
    "\n",
    "\n",
    "#### 3. BLEU 스코어\n",
    "\n",
    "- representative_sentence의 품질을 추가로 평가\n",
    "- 각 카테고리별 매칭되는 문장끼리 비교\n",
    "\n",
    "\n",
    "#### 4. 응답 시간\n",
    "\n",
    "- 각 요청에 대한 모델의 응답 시간 측정\n",
    "- 평균, 표준편차, 최소, 최대값 제공\n",
    "\n",
    "\n",
    "#### 5. 에러율\n",
    "\n",
    "- JSON 파싱 실패 등 오류 발생 비율\n",
    "\n",
    "\n",
    "\n"
   ]
  },
  {
   "cell_type": "markdown",
   "metadata": {
    "id": "9yRhGhkCNc6S"
   },
   "source": [
    "### 1. 단일 테스트 성능평가"
   ]
  },
  {
   "cell_type": "code",
   "execution_count": null,
   "metadata": {
    "colab": {
     "base_uri": "https://localhost:8080/"
    },
    "executionInfo": {
     "elapsed": 267,
     "status": "ok",
     "timestamp": 1736609928468,
     "user": {
      "displayName": "JIYOON OH",
      "userId": "10607774071577451844"
     },
     "user_tz": -540
    },
    "id": "aK5aCLMVBInT",
    "outputId": "5b3c0ea9-35ac-46d0-b08b-2b1f8e53f9af"
   },
   "outputs": [
    {
     "name": "stdout",
     "output_type": "stream",
     "text": [
      "\n",
      "First line sample: {\"messages\": [{\"role\": \"system\", \"content\": \"Analyze restaurant review keywords and classify them into appropriate categories among the five categories (맛, 서비스, 위생, 가성비, 분위기) based on their meanings a\n"
     ]
    }
   ],
   "source": [
    "# 데이터 확인\n",
    "with open(VALID_DATA_PATH, 'r', encoding='utf-8') as f:\n",
    "    first_line = f.readline()\n",
    "print(\"\\nFirst line sample:\", first_line[:200])"
   ]
  },
  {
   "cell_type": "code",
   "execution_count": null,
   "metadata": {
    "id": "Qf9yQndIIGZ2"
   },
   "outputs": [],
   "source": [
    "def evaluate_single_case(client, model_id, test_case):\n",
    "    start_time = time.time()\n",
    "    try:\n",
    "        # 모델 호출\n",
    "        completion = client.chat.completions.create(\n",
    "            model=model_id,\n",
    "            messages=[\n",
    "                {\"role\": \"system\", \"content\": test_case['messages'][0]['content']},\n",
    "                {\"role\": \"user\", \"content\": test_case['messages'][1]['content']}\n",
    "            ]\n",
    "        )\n",
    "        response_time = time.time() - start_time\n",
    "\n",
    "        # 실제값과 예측값 파싱\n",
    "        true_response = json.loads(test_case['messages'][2]['content'])\n",
    "        pred_response = json.loads(completion.choices[0].message.content)\n",
    "\n",
    "        return {\n",
    "            'response_time': response_time,\n",
    "            'true_response': true_response,\n",
    "            'pred_response': pred_response\n",
    "        }\n",
    "\n",
    "    except Exception as e:\n",
    "        print(f\"Error in single case evaluation: {str(e)}\")\n",
    "        raise"
   ]
  },
  {
   "cell_type": "code",
   "execution_count": null,
   "metadata": {
    "id": "KFfr_va8IIUV"
   },
   "outputs": [],
   "source": [
    "def calculate_category_accuracy(true_response, pred_response):\n",
    "    try:\n",
    "        true_categories = set([item['category'] for item in true_response])\n",
    "        pred_categories = set([item['category'] for item in pred_response])\n",
    "        return len(true_categories.intersection(pred_categories)) / len(true_categories)\n",
    "    except Exception as e:\n",
    "        print(f\"Category accuracy calculation error: {str(e)}\")\n",
    "        return 0"
   ]
  },
  {
   "cell_type": "code",
   "execution_count": null,
   "metadata": {
    "id": "ovuOb65JIKni"
   },
   "outputs": [],
   "source": [
    "def calculate_rouge_scores(true_response, pred_response, scorer):\n",
    "    rouge_scores = {'rouge1': [], 'rouge2': [], 'rougeL': []}\n",
    "    for true_item in true_response:\n",
    "        true_category = true_item['category']\n",
    "        true_sent = true_item.get('representative_sentence', '')\n",
    "\n",
    "        for pred_item in pred_response:\n",
    "            if pred_item['category'] == true_category:\n",
    "                pred_sent = pred_item.get('representative_sentence', '')\n",
    "\n",
    "                if true_sent and pred_sent:\n",
    "                    true_processed = ' '.join(list(true_sent))\n",
    "                    pred_processed = ' '.join(list(pred_sent))\n",
    "                    scores = scorer.score(true_processed, pred_processed)\n",
    "                    for key in rouge_scores:\n",
    "                        rouge_scores[key].append(scores[key].fmeasure)\n",
    "                break\n",
    "\n",
    "    for key in rouge_scores:\n",
    "        scores = rouge_scores[key]\n",
    "        rouge_scores[key] = mean(scores) if scores else 0\n",
    "    return rouge_scores"
   ]
  },
  {
   "cell_type": "code",
   "execution_count": null,
   "metadata": {
    "id": "DaUIoFOxINEN"
   },
   "outputs": [],
   "source": [
    "def calculate_bleu_score(true_response, pred_response):\n",
    "    smoother = SmoothingFunction().method1\n",
    "    bleu_scores = []\n",
    "    for true_item in true_response:\n",
    "        true_category = true_item['category']\n",
    "        true_sent = true_item.get('representative_sentence', '')\n",
    "\n",
    "        for pred_item in pred_response:\n",
    "            if pred_item['category'] == true_category:\n",
    "                pred_sent = pred_item.get('representative_sentence', '')\n",
    "                if true_sent and pred_sent:\n",
    "                    reference = [list(true_sent)]\n",
    "                    candidate = list(pred_sent)\n",
    "                    score = sentence_bleu(reference, candidate, weights=(1, 0, 0, 0), smoothing_function=smoother)\n",
    "                    bleu_scores.append(score)\n",
    "                break\n",
    "\n",
    "    return mean(bleu_scores) if bleu_scores else 0\n"
   ]
  },
  {
   "cell_type": "code",
   "execution_count": null,
   "metadata": {
    "id": "8Ma4Ea98Iv91"
   },
   "outputs": [],
   "source": [
    "def load_valid_data(valid_data_path, num_samples=None):\n",
    "    with open(valid_data_path, 'r', encoding='utf-8') as f:\n",
    "        valid_data = [json.loads(line) for line in f]\n",
    "    if num_samples:\n",
    "        valid_data = valid_data[:num_samples]\n",
    "    return valid_data"
   ]
  },
  {
   "cell_type": "code",
   "execution_count": null,
   "metadata": {
    "colab": {
     "base_uri": "https://localhost:8080/"
    },
    "executionInfo": {
     "elapsed": 275,
     "status": "ok",
     "timestamp": 1736611937921,
     "user": {
      "displayName": "JIYOON OH",
      "userId": "10607774071577451844"
     },
     "user_tz": -540
    },
    "id": "01qI3FvZIoPi",
    "outputId": "e6f14896-b0f3-42be-a873-77477cadf066"
   },
   "outputs": [
    {
     "name": "stdout",
     "output_type": "stream",
     "text": [
      "Loaded 10 samples\n"
     ]
    }
   ],
   "source": [
    "valid_data = load_valid_data(VALID_DATA_PATH, num_samples=10)\n",
    "print(f\"Loaded {len(valid_data)} samples\")"
   ]
  },
  {
   "cell_type": "code",
   "execution_count": null,
   "metadata": {
    "colab": {
     "base_uri": "https://localhost:8080/"
    },
    "executionInfo": {
     "elapsed": 8017,
     "status": "ok",
     "timestamp": 1736611988435,
     "user": {
      "displayName": "JIYOON OH",
      "userId": "10607774071577451844"
     },
     "user_tz": -540
    },
    "id": "zYjHOTGlIifM",
    "outputId": "3ae0ea13-3ac0-426a-f05f-1220b3404618"
   },
   "outputs": [
    {
     "name": "stdout",
     "output_type": "stream",
     "text": [
      "{'response_time': 7.3824732303619385, 'true_response': [{'category': '맛', 'group_keywords': '음식은 금방 식어버려, 화이트 라구 파스타, 맛있는지 모르겠고, 매쉬포테이토, 피클을 안주네요, 새우메뉴, 에그베네딕트, 베네딕트 느끼함, 뇨끼 자체는 제 스타일이 아니고 떡같은 스타일, 포크 라이스와 칠리 어쩌구, 향신료, 평범, 무화과 품절, 오버쿡 콜드파스타, 뇨끼 맛, 생각보다 느끼하다, 베이컨, 베네딕트 약간 맵다, 무화과 들어간 시즌메뉴, 수란, 베네딕트류 질려요, 뇨끼 쏘쏘하다, 맛이 너무 없다, 파스타 면 맛, 맛, 맛없다, 플랫화이트 맛, 스프는 정말 별로, 치킨칙피스보울 간이 부족하다, 음식이 짰다, 에그베네딕트 먹기 힘들다, 맛은, 오픈샌드위치, 가격대비 맛, 무슨 맛인지 잘 모르겠다, 뇨끼, 베네딕트 빵 너무 차갑다, 베네딕트, 지금의 맛, 짠맛, 라자냐 마니 마른 느낌, 맛이 너무 없다, 파스타 면 맛, 음식 맛, 콰트로치즈뇨끼 치즈향만 나는 느낌, 음식 느끼함', 'representative_sentence': '음식은 금방 식어버리고, 맛이 느끼하거나 부족하며, 특히 베네딕트와 뇨끼는 입맛에 맞지 않는다.'}, {'category': '위생', 'group_keywords': '푸세식 화장실, 화장실, 청소 필요, 작은 털파리 날파리, 청소, 식기류 상태, 화장실 가는 과정', 'representative_sentence': '청결 상태가 좋지 않으며 특히 화장실이 불편하고 청소가 필요하다.'}, {'category': '서비스', 'group_keywords': '직원의 응대, 피클을 안주네요, 웨이팅 싫어, 서비스 태도, 주방의 대응, 재방문 의사, 대기할 필요 없음, 전화번호 조회, 첫 방문 쿠폰', 'representative_sentence': '직원들의 응대가 미흡하고 대기 시간이 길어 서비스에 대한 만족도가 낮다.'}, {'category': '분위기', 'group_keywords': '붐비는 상황, 분위기, 자리가 협소한 점, 매장 바쁨, 손님이 없는 이유, 좁고 불편한 자리, 가게가 좁음, 좁은 좌석, 굉장히 불편함, 매장 내부 공간, 장소가 넓지 않다, 테이블이 다닥다닥 붙은 느낌, 매장 협소, 매장 안이 산만하다, 의자가 불편하다, 내부 넓지 않음, 매장 좌석', 'representative_sentence': '매장 내 좌석이 협소하고 붐비는 분위기로 인해 매우 불편하다.'}, {'category': '가성비', 'group_keywords': '가격, 돈과 시간 아깝다, 비싸게 받는다, 비싸다, 가격대도 있지만', 'representative_sentence': '가격이 비싸고 돈과 시간이 아깝다고 느끼게 한다.'}], 'pred_response': [{'category': '맛', 'group_keywords': '화이트 라구 파스타, 매쉬포테이토, 맛있는지 모르겠고, 새우메뉴, 에그베네딕트, 베네딕트 느끼함, 뇨끼 자체는 제 스타일이 아니고 떡같은 스타일, 포크 라이스와 칠리 어쩌구, 향신료, 뇨끼 맛, 에그 베네딕트, 뇨끼 쏘쏘하다, 호주식 브런치, 베네딕트 약간 맵다, 베네딕트류 질려요, 무화과 들어간 시즌메뉴, 수란, 맛이 너무 없다, 식기류 상태, 치킨칙피스보울 간이 부족하다, 요리, 음식이 짰다, 맛없다, 플랫화이트 맛, 베네딕트 빵 너무 차갑다, 음식 맛, 음식 느끼함', 'representative_sentence': '화이트 라구 파스타와 매쉬포테이토 등 다양한 메뉴가 있지만, 전반적으로 맛이 평범하고, 특히 에그베네딕트와 뇨끼는 느끼하고 개성이 부족하여 실망스러웠습니다.'}, {'category': '서비스', 'group_keywords': '직원의 응대, 서비스 태도, 주방의 대응, 웨이팅 싫어, 매장 바쁨, 메뉴 지연, 돈과 시간 아깝다, 대기할 필요 없음, 재방문 의사', 'representative_sentence': '직원의 응대와 서비스 태도가 부족하여 웨이팅과 메뉴 지연이 발목을 잡는 데, 매장이 바쁘면 대기할 필요 없이 방문을 고려하기 어려워집니다.'}, {'category': '위생', 'group_keywords': '푸세식 화장실, 화장실, 청소 필요, 청소, 작은 털파리 날파리, 가게 내부 좁다', 'representative_sentence': '푸세식 화장실과 청소 필요성이 언급되며, 화장실과 가게 내부의 위생 상태가 좋지 않아 불편함을 줍니다.'}, {'category': '분위기', 'group_keywords': '분위기, 좁고 불편한 자리, 가게가 좁음, 매장규모, 소리 울림, 매장 안 좌석배치, 매장 안이 산만하다, 내부 넓지 않음, 매장 좌석, 테이블 간격', 'representative_sentence': '가게의 좁은 규모와 불편한 좌석배치로 인해 분위기가 산만하고 소리가 울려, 여유롭게 식사를 즐기기에 아쉬움이 큽니다.'}, {'category': '가성비', 'group_keywords': '가격, 비싸다, 가격대도 있지만, 돈과 시간 아깝다, 주차장은 다소 협소', 'representative_sentence': '가격이 다소 비싼 편인데, 그에 비해 맛과 서비스가 부족하여 돈과 시간을 아깝게 느끼게 만드는 곳입니다.'}]}\n"
     ]
    }
   ],
   "source": [
    "model_id = \"Add your fine tuned model ID\"\n",
    "test_case = valid_data[0]\n",
    "\n",
    "result = evaluate_single_case(client, model_id, test_case)\n",
    "print(result)"
   ]
  },
  {
   "cell_type": "code",
   "execution_count": null,
   "metadata": {
    "colab": {
     "base_uri": "https://localhost:8080/"
    },
    "executionInfo": {
     "elapsed": 279,
     "status": "ok",
     "timestamp": 1736612040142,
     "user": {
      "displayName": "JIYOON OH",
      "userId": "10607774071577451844"
     },
     "user_tz": -540
    },
    "id": "X2vYcujKJEKD",
    "outputId": "14bae5fe-be18-454f-8f6e-ee1510cc548a"
   },
   "outputs": [
    {
     "name": "stdout",
     "output_type": "stream",
     "text": [
      "Category Accuracy: 1.0\n"
     ]
    }
   ],
   "source": [
    "true_response = result['true_response']\n",
    "pred_response = result['pred_response']\n",
    "\n",
    "category_accuracy = calculate_category_accuracy(true_response, pred_response)\n",
    "print(f\"Category Accuracy: {category_accuracy}\")"
   ]
  },
  {
   "cell_type": "code",
   "execution_count": null,
   "metadata": {
    "colab": {
     "base_uri": "https://localhost:8080/"
    },
    "executionInfo": {
     "elapsed": 272,
     "status": "ok",
     "timestamp": 1736612042996,
     "user": {
      "displayName": "JIYOON OH",
      "userId": "10607774071577451844"
     },
     "user_tz": -540
    },
    "id": "_oISmazEJHv9",
    "outputId": "64ab517b-bd21-44ef-e89a-ecd6b11e86bb"
   },
   "outputs": [
    {
     "name": "stdout",
     "output_type": "stream",
     "text": [
      "ROUGE Scores: {'rouge1': 0.0, 'rouge2': 0.0, 'rougeL': 0}\n"
     ]
    }
   ],
   "source": [
    "scorer = rouge_scorer.RougeScorer(['rouge1', 'rouge2', 'rougeL'], use_stemmer=True)\n",
    "rouge_scores = calculate_rouge_scores(true_response, pred_response, scorer)\n",
    "print(f\"ROUGE Scores: {rouge_scores}\")"
   ]
  },
  {
   "cell_type": "code",
   "execution_count": null,
   "metadata": {
    "colab": {
     "base_uri": "https://localhost:8080/"
    },
    "executionInfo": {
     "elapsed": 247,
     "status": "ok",
     "timestamp": 1736612046952,
     "user": {
      "displayName": "JIYOON OH",
      "userId": "10607774071577451844"
     },
     "user_tz": -540
    },
    "id": "qiD3Z_pdJIpZ",
    "outputId": "eaa1f4ab-3420-409f-f005-d6afee0f7eb8"
   },
   "outputs": [
    {
     "name": "stdout",
     "output_type": "stream",
     "text": [
      "BLEU Score: 0.4034397302636867\n"
     ]
    }
   ],
   "source": [
    "bleu_score = calculate_bleu_score(true_response, pred_response)\n",
    "print(f\"BLEU Score: {bleu_score}\")\n"
   ]
  },
  {
   "cell_type": "code",
   "execution_count": null,
   "metadata": {
    "colab": {
     "base_uri": "https://localhost:8080/"
    },
    "executionInfo": {
     "elapsed": 277,
     "status": "ok",
     "timestamp": 1736612049454,
     "user": {
      "displayName": "JIYOON OH",
      "userId": "10607774071577451844"
     },
     "user_tz": -540
    },
    "id": "ggksV-Z6JMKD",
    "outputId": "1e71190d-ead8-4923-9671-27e76dd6eafd"
   },
   "outputs": [
    {
     "name": "stdout",
     "output_type": "stream",
     "text": [
      "Metrics for the test case:\n",
      "{'response_time': 7.3824732303619385, 'category_accuracy': 1.0, 'rouge_scores': {'rouge1': 0.0, 'rouge2': 0.0, 'rougeL': 0}, 'bleu_score': 0.4034397302636867}\n"
     ]
    }
   ],
   "source": [
    "metrics = {\n",
    "    'response_time': result['response_time'],\n",
    "    'category_accuracy': category_accuracy,\n",
    "    'rouge_scores': rouge_scores,\n",
    "    'bleu_score': bleu_score\n",
    "}\n",
    "\n",
    "print(f\"Metrics for the test case:\\n{metrics}\")\n"
   ]
  },
  {
   "cell_type": "code",
   "execution_count": null,
   "metadata": {
    "colab": {
     "base_uri": "https://localhost:8080/"
    },
    "executionInfo": {
     "elapsed": 320,
     "status": "ok",
     "timestamp": 1736612091236,
     "user": {
      "displayName": "JIYOON OH",
      "userId": "10607774071577451844"
     },
     "user_tz": -540
    },
    "id": "ssjGd_U7JYkR",
    "outputId": "cb62c7b9-02a1-403c-f009-ad32fc6a57d4"
   },
   "outputs": [
    {
     "name": "stdout",
     "output_type": "stream",
     "text": [
      "True Response: [{'category': '맛', 'group_keywords': '음식은 금방 식어버려, 화이트 라구 파스타, 맛있는지 모르겠고, 매쉬포테이토, 피클을 안주네요, 새우메뉴, 에그베네딕트, 베네딕트 느끼함, 뇨끼 자체는 제 스타일이 아니고 떡같은 스타일, 포크 라이스와 칠리 어쩌구, 향신료, 평범, 무화과 품절, 오버쿡 콜드파스타, 뇨끼 맛, 생각보다 느끼하다, 베이컨, 베네딕트 약간 맵다, 무화과 들어간 시즌메뉴, 수란, 베네딕트류 질려요, 뇨끼 쏘쏘하다, 맛이 너무 없다, 파스타 면 맛, 맛, 맛없다, 플랫화이트 맛, 스프는 정말 별로, 치킨칙피스보울 간이 부족하다, 음식이 짰다, 에그베네딕트 먹기 힘들다, 맛은, 오픈샌드위치, 가격대비 맛, 무슨 맛인지 잘 모르겠다, 뇨끼, 베네딕트 빵 너무 차갑다, 베네딕트, 지금의 맛, 짠맛, 라자냐 마니 마른 느낌, 맛이 너무 없다, 파스타 면 맛, 음식 맛, 콰트로치즈뇨끼 치즈향만 나는 느낌, 음식 느끼함', 'representative_sentence': '음식은 금방 식어버리고, 맛이 느끼하거나 부족하며, 특히 베네딕트와 뇨끼는 입맛에 맞지 않는다.'}, {'category': '위생', 'group_keywords': '푸세식 화장실, 화장실, 청소 필요, 작은 털파리 날파리, 청소, 식기류 상태, 화장실 가는 과정', 'representative_sentence': '청결 상태가 좋지 않으며 특히 화장실이 불편하고 청소가 필요하다.'}, {'category': '서비스', 'group_keywords': '직원의 응대, 피클을 안주네요, 웨이팅 싫어, 서비스 태도, 주방의 대응, 재방문 의사, 대기할 필요 없음, 전화번호 조회, 첫 방문 쿠폰', 'representative_sentence': '직원들의 응대가 미흡하고 대기 시간이 길어 서비스에 대한 만족도가 낮다.'}, {'category': '분위기', 'group_keywords': '붐비는 상황, 분위기, 자리가 협소한 점, 매장 바쁨, 손님이 없는 이유, 좁고 불편한 자리, 가게가 좁음, 좁은 좌석, 굉장히 불편함, 매장 내부 공간, 장소가 넓지 않다, 테이블이 다닥다닥 붙은 느낌, 매장 협소, 매장 안이 산만하다, 의자가 불편하다, 내부 넓지 않음, 매장 좌석', 'representative_sentence': '매장 내 좌석이 협소하고 붐비는 분위기로 인해 매우 불편하다.'}, {'category': '가성비', 'group_keywords': '가격, 돈과 시간 아깝다, 비싸게 받는다, 비싸다, 가격대도 있지만', 'representative_sentence': '가격이 비싸고 돈과 시간이 아깝다고 느끼게 한다.'}]\n",
      "Predicted Response: [{'category': '맛', 'group_keywords': '화이트 라구 파스타, 매쉬포테이토, 맛있는지 모르겠고, 새우메뉴, 에그베네딕트, 베네딕트 느끼함, 뇨끼 자체는 제 스타일이 아니고 떡같은 스타일, 포크 라이스와 칠리 어쩌구, 향신료, 뇨끼 맛, 에그 베네딕트, 뇨끼 쏘쏘하다, 호주식 브런치, 베네딕트 약간 맵다, 베네딕트류 질려요, 무화과 들어간 시즌메뉴, 수란, 맛이 너무 없다, 식기류 상태, 치킨칙피스보울 간이 부족하다, 요리, 음식이 짰다, 맛없다, 플랫화이트 맛, 베네딕트 빵 너무 차갑다, 음식 맛, 음식 느끼함', 'representative_sentence': '화이트 라구 파스타와 매쉬포테이토 등 다양한 메뉴가 있지만, 전반적으로 맛이 평범하고, 특히 에그베네딕트와 뇨끼는 느끼하고 개성이 부족하여 실망스러웠습니다.'}, {'category': '서비스', 'group_keywords': '직원의 응대, 서비스 태도, 주방의 대응, 웨이팅 싫어, 매장 바쁨, 메뉴 지연, 돈과 시간 아깝다, 대기할 필요 없음, 재방문 의사', 'representative_sentence': '직원의 응대와 서비스 태도가 부족하여 웨이팅과 메뉴 지연이 발목을 잡는 데, 매장이 바쁘면 대기할 필요 없이 방문을 고려하기 어려워집니다.'}, {'category': '위생', 'group_keywords': '푸세식 화장실, 화장실, 청소 필요, 청소, 작은 털파리 날파리, 가게 내부 좁다', 'representative_sentence': '푸세식 화장실과 청소 필요성이 언급되며, 화장실과 가게 내부의 위생 상태가 좋지 않아 불편함을 줍니다.'}, {'category': '분위기', 'group_keywords': '분위기, 좁고 불편한 자리, 가게가 좁음, 매장규모, 소리 울림, 매장 안 좌석배치, 매장 안이 산만하다, 내부 넓지 않음, 매장 좌석, 테이블 간격', 'representative_sentence': '가게의 좁은 규모와 불편한 좌석배치로 인해 분위기가 산만하고 소리가 울려, 여유롭게 식사를 즐기기에 아쉬움이 큽니다.'}, {'category': '가성비', 'group_keywords': '가격, 비싸다, 가격대도 있지만, 돈과 시간 아깝다, 주차장은 다소 협소', 'representative_sentence': '가격이 다소 비싼 편인데, 그에 비해 맛과 서비스가 부족하여 돈과 시간을 아깝게 느끼게 만드는 곳입니다.'}]\n",
      "True Sentence (맛): 음식은 금방 식어버리고, 맛이 느끼하거나 부족하며, 특히 베네딕트와 뇨끼는 입맛에 맞지 않는다.\n",
      "Predicted Sentence (맛): 화이트 라구 파스타와 매쉬포테이토 등 다양한 메뉴가 있지만, 전반적으로 맛이 평범하고, 특히 에그베네딕트와 뇨끼는 느끼하고 개성이 부족하여 실망스러웠습니다.\n",
      "True Sentence (위생): 청결 상태가 좋지 않으며 특히 화장실이 불편하고 청소가 필요하다.\n",
      "Predicted Sentence (위생): 푸세식 화장실과 청소 필요성이 언급되며, 화장실과 가게 내부의 위생 상태가 좋지 않아 불편함을 줍니다.\n",
      "True Sentence (서비스): 직원들의 응대가 미흡하고 대기 시간이 길어 서비스에 대한 만족도가 낮다.\n",
      "Predicted Sentence (서비스): 직원의 응대와 서비스 태도가 부족하여 웨이팅과 메뉴 지연이 발목을 잡는 데, 매장이 바쁘면 대기할 필요 없이 방문을 고려하기 어려워집니다.\n",
      "True Sentence (분위기): 매장 내 좌석이 협소하고 붐비는 분위기로 인해 매우 불편하다.\n",
      "Predicted Sentence (분위기): 가게의 좁은 규모와 불편한 좌석배치로 인해 분위기가 산만하고 소리가 울려, 여유롭게 식사를 즐기기에 아쉬움이 큽니다.\n",
      "True Sentence (가성비): 가격이 비싸고 돈과 시간이 아깝다고 느끼게 한다.\n",
      "Predicted Sentence (가성비): 가격이 다소 비싼 편인데, 그에 비해 맛과 서비스가 부족하여 돈과 시간을 아깝게 느끼게 만드는 곳입니다.\n"
     ]
    }
   ],
   "source": [
    "print(\"True Response:\", true_response)\n",
    "print(\"Predicted Response:\", pred_response)\n",
    "\n",
    "for true_item in true_response:\n",
    "    true_category = true_item['category']\n",
    "    true_sent = true_item.get('representative_sentence', '')\n",
    "\n",
    "    for pred_item in pred_response:\n",
    "        if pred_item['category'] == true_category:\n",
    "            pred_sent = pred_item.get('representative_sentence', '')\n",
    "            print(f\"True Sentence ({true_category}): {true_sent}\")\n",
    "            print(f\"Predicted Sentence ({true_category}): {pred_sent}\")\n"
   ]
  },
  {
   "cell_type": "code",
   "execution_count": null,
   "metadata": {
    "colab": {
     "base_uri": "https://localhost:8080/"
    },
    "executionInfo": {
     "elapsed": 304,
     "status": "ok",
     "timestamp": 1736612562727,
     "user": {
      "displayName": "JIYOON OH",
      "userId": "10607774071577451844"
     },
     "user_tz": -540
    },
    "id": "HSuVrGkZLLio",
    "outputId": "fefe903d-604a-4925-f820-a016a097457e"
   },
   "outputs": [
    {
     "name": "stdout",
     "output_type": "stream",
     "text": [
      "Raw Predicted Response: [{\"category\": \"맛\", \"group_keywords\": \"쫀득쫀득, 고로케, 슈크림 빵, 하얀크림빵, 빵 맛있다, 생크림스틱 맛, 팥빙수, 멜론빵, 다양한 종류의 빵, 빵 맛도 좋네요, 찹쌀꽈배기, 옛날 맛, 생크림스틱 부드럽고 포근하고 달달, 꿀꽈배기 빵 버전, 크림도넛, 에그타르트 생도넛 공갈빵 옛날 샐러드빵 당근빵, 메론빵 맛, 사라다 맛있어요, 빵 맛, 빵이 여전히 맛있어요, 맛요, 너무 맛있었어요, 케이크 맛있다, 잡곡식빵도 고소하고, 부드럽다, 밤식빵, 맛있는집, 평소 맛있다, 맛 좋음, 맛 좋음, 메론빵 맛, 사라다 맛있어요, 빵 맛, 캐모마일 맛, 가격 대비, 빵 맛있음, 빵 맛있어요, 크림도넛 맛있었어요, 크림도넛 만족도 높고 맛있었어요, 깨찰빵, 앙버터, 메론크림빵, 맘모스빵, 소금빵 바닥, 오란다빵 견과류, 크림치즈 브레드 촉촉쫄깃 버터리, 빵종류가 많고, 미니샌드위치빵은 야채가 엄청싱싱하고, 생크림스틱, 생크림 스틱, 크림도넛, 생크림스틱 맛, 슈크림빵, 생크림빵, 단호박 식빵, 도너츠 나쁘지 않은, 빵 생크림스틱, 지점 빵 맛있고, 부드럽고 달달한\", \"representative_sentence\": \"이곳의 다양한 종류의 빵은 부드럽고 맛있으며 특히 생크림스틱과 슈크림빵이 인기입니다.\"}, {\"category\": \"위생\", \"group_keywords\": \"\", \"representative_sentence\": \"\"}, {\"category\": \"서비스\", \"group_keywords\": \"사장님이 알바생에게 점심 사주다, 친절한 사장님과 사모님, 친절한 서비스, 친절한 사장님과 사모님, 사장님친절, 친절, 직원 친절, 서비스, 친절하세요, 친절하시고\", \"representative_sentence\": \"사장님과 직원들이 매우 친절하여 방문할 때마다 따뜻한 서비스를 받습니다.\"}, {\"category\": \"분위기\", \"group_keywords\": \"\", \"representative_sentence\": \"\"}, {\"category\": \"가성비\", \"group_keywords\": \"빵도 싸면서 골고루 맛있어서, 카드결제하기 미안할정도로 싸요, 가격, 가격도 너무 좋고, 가격 착해요, 가격이 저렴한, 가격 저렴, 가격 대비, 저렴하다\", \"representative_sentence\": \"가격이 매우 저렴하면서도 맛이 뛰어나 가성비 최고의 빵집입니다.\"}]\n"
     ]
    }
   ],
   "source": [
    "print(\"Raw Predicted Response:\", completion.choices[0].message.content)"
   ]
  },
  {
   "cell_type": "markdown",
   "metadata": {
    "id": "GPd2NRjLBjgX"
   },
   "source": [
    "단일 케이스 테스트"
   ]
  },
  {
   "cell_type": "code",
   "execution_count": null,
   "metadata": {
    "colab": {
     "base_uri": "https://localhost:8080/"
    },
    "executionInfo": {
     "elapsed": 7642,
     "status": "ok",
     "timestamp": 1736611378422,
     "user": {
      "displayName": "JIYOON OH",
      "userId": "10607774071577451844"
     },
     "user_tz": -540
    },
    "id": "flAM8liNBl5h",
    "outputId": "d66462ae-5451-4ebd-c07c-2ed7e652e632"
   },
   "outputs": [
    {
     "name": "stdout",
     "output_type": "stream",
     "text": [
      "Single case test successful!\n",
      "\n",
      "Response time: 6.950690984725952\n",
      "BLEU score: 0.5177064129249678\n",
      "Category accuracy: 1.0\n",
      "\n",
      "ROUGE scores: {\n",
      "  \"rouge1\": 0.0,\n",
      "  \"rouge2\": 0.0,\n",
      "  \"rougeL\": 0\n",
      "}\n"
     ]
    }
   ],
   "source": [
    "# 먼저 하나의 케이스로 테스트\n",
    "with open(VALID_DATA_PATH, 'r', encoding='utf-8') as f:\n",
    "    test_case = json.loads(f.readline())\n",
    "result = evaluator._evaluate_single_case(test_case)\n",
    "print(\"Single case test successful!\")\n",
    "print(\"\\nResponse time:\", result['response_time'])\n",
    "print(\"BLEU score:\", result['bleu_score'])\n",
    "print(\"Category accuracy:\", result['category_accuracy'])\n",
    "print(\"\\nROUGE scores:\", json.dumps(result['rouge_scores'], indent=2))"
   ]
  },
  {
   "cell_type": "markdown",
   "metadata": {
    "id": "_BNDfvMU417p"
   },
   "source": [
    "#### 시각화"
   ]
  },
  {
   "cell_type": "markdown",
   "metadata": {
    "id": "9EbmOICr46ev"
   },
   "source": [
    "#### 최종 평가 결과"
   ]
  },
  {
   "cell_type": "code",
   "execution_count": null,
   "metadata": {
    "id": "fi0V7Duw47b9"
   },
   "outputs": [],
   "source": [
    "def print_evaluation_report(results: Dict):\n",
    "    \"\"\"평가 결과를 보기 좋게 출력하는 함수\"\"\"\n",
    "    print(\"\\n=== 모델 평가 리포트 ===\")\n",
    "\n",
    "    # 기본 메트릭\n",
    "    print(\"\\n[기본 메트릭]\")\n",
    "    print(f\"카테고리 정확도: {results['metrics']['category_accuracy']:.2%}\")\n",
    "    print(f\"에러율: {results['metrics']['error_rate']:.2%}\")\n",
    "\n",
    "    # 응답 시간\n",
    "    print(\"\\n[응답 시간 (초)]\")\n",
    "    print(f\"평균: {results['metrics']['response_time']['mean']:.3f}\")\n",
    "    print(f\"표준편차: {results['metrics']['response_time']['std']:.3f}\")\n",
    "    print(f\"최소: {results['metrics']['response_time']['min']:.3f}\")\n",
    "    print(f\"최대: {results['metrics']['response_time']['max']:.3f}\")\n",
    "\n",
    "    # ROUGE 스코어\n",
    "    print(\"\\n[ROUGE 스코어]\")\n",
    "    for key, value in results['metrics']['rouge_scores'].items():\n",
    "        print(f\"{key}: {value:.3f}\")\n",
    "\n",
    "    # BLEU 스코어\n",
    "    print(f\"\\n[BLEU 스코어]: {results['metrics']['bleu_score']:.3f}\")\n",
    "\n",
    "    # 에러 샘플\n",
    "    if results['errors']:\n",
    "        print(\"\\n[에러 샘플] (최대 3개)\")\n",
    "        for error in results['errors'][:3]:\n",
    "            print(f\"\\nInput: {error['input'][:100]}...\")\n",
    "            print(f\"Error: {error['error']}\")"
   ]
  },
  {
   "cell_type": "code",
   "execution_count": null,
   "metadata": {
    "colab": {
     "base_uri": "https://localhost:8080/"
    },
    "executionInfo": {
     "elapsed": 237495,
     "status": "ok",
     "timestamp": 1736609720788,
     "user": {
      "displayName": "JIYOON OH",
      "userId": "10607774071577451844"
     },
     "user_tz": -540
    },
    "id": "Xb5xAUwn6Tm4",
    "outputId": "05f87bdf-f6dc-449b-c29b-8a4e2a74f5c8"
   },
   "outputs": [
    {
     "name": "stdout",
     "output_type": "stream",
     "text": [
      "Total validation data: 29\n"
     ]
    },
    {
     "name": "stderr",
     "output_type": "stream",
     "text": [
      "Evaluating: 100%|██████████| 29/29 [03:56<00:00,  8.16s/it]\n"
     ]
    }
   ],
   "source": [
    "results = evaluator.evaluate_model(\n",
    "    valid_data_path=VALID_DATA_PATH,\n",
    "    num_samples=None  # None으로 설정하면 전체 데이터 사용\n",
    ")"
   ]
  },
  {
   "cell_type": "code",
   "execution_count": null,
   "metadata": {
    "colab": {
     "base_uri": "https://localhost:8080/"
    },
    "executionInfo": {
     "elapsed": 271,
     "status": "ok",
     "timestamp": 1736609726804,
     "user": {
      "displayName": "JIYOON OH",
      "userId": "10607774071577451844"
     },
     "user_tz": -540
    },
    "id": "kf-_a-wy6WtP",
    "outputId": "b170816f-651b-486d-8675-35f074e6373c"
   },
   "outputs": [
    {
     "name": "stdout",
     "output_type": "stream",
     "text": [
      "\n",
      "=== 모델 평가 리포트 ===\n",
      "\n",
      "[기본 메트릭]\n",
      "카테고리 정확도: 60.00%\n",
      "에러율: 93.10%\n",
      "\n",
      "[응답 시간 (초)]\n",
      "평균: 3.339\n",
      "표준편차: 1.742\n",
      "최소: 1.597\n",
      "최대: 5.081\n",
      "\n",
      "[ROUGE 스코어]\n",
      "rouge1: 0.000\n",
      "rouge2: 0.000\n",
      "rougeL: 0.000\n",
      "\n",
      "[BLEU 스코어]: 0.000\n",
      "\n",
      "[에러 샘플] (최대 3개)\n",
      "\n",
      "Input: Keywords: ['붐비는 상황', '푸세식 화장실', '직원의 응대', '음식은 금방 식어버려', '화이트 라구 파스타', '분위기', '화장실', '매쉬포테이토', '맛있는지...\n",
      "Error: \n",
      "**********************************************************************\n",
      "  Resource \u001b[93mpunkt_tab\u001b[0m not found.\n",
      "  Please use the NLTK Downloader to obtain the resource:\n",
      "\n",
      "  \u001b[31m>>> import nltk\n",
      "  >>> nltk.download('punkt_tab')\n",
      "  \u001b[0m\n",
      "  For more information see: https://www.nltk.org/data.html\n",
      "\n",
      "  Attempted to load \u001b[93mtokenizers/punkt_tab/english/\u001b[0m\n",
      "\n",
      "  Searched in:\n",
      "    - '/root/nltk_data'\n",
      "    - '/usr/nltk_data'\n",
      "    - '/usr/share/nltk_data'\n",
      "    - '/usr/lib/nltk_data'\n",
      "    - '/usr/share/nltk_data'\n",
      "    - '/usr/local/share/nltk_data'\n",
      "    - '/usr/lib/nltk_data'\n",
      "    - '/usr/local/lib/nltk_data'\n",
      "**********************************************************************\n",
      "\n",
      "\n",
      "Input: Keywords: ['스콘', '대화하기 좋은 분위기', '좌석 수', '담요 구비', '분위기', '화장실', '음료 맛', '좌석', '사진 찍는 사람', '음료 맛있어요', ...\n",
      "Error: \n",
      "**********************************************************************\n",
      "  Resource \u001b[93mpunkt_tab\u001b[0m not found.\n",
      "  Please use the NLTK Downloader to obtain the resource:\n",
      "\n",
      "  \u001b[31m>>> import nltk\n",
      "  >>> nltk.download('punkt_tab')\n",
      "  \u001b[0m\n",
      "  For more information see: https://www.nltk.org/data.html\n",
      "\n",
      "  Attempted to load \u001b[93mtokenizers/punkt_tab/english/\u001b[0m\n",
      "\n",
      "  Searched in:\n",
      "    - '/root/nltk_data'\n",
      "    - '/usr/nltk_data'\n",
      "    - '/usr/share/nltk_data'\n",
      "    - '/usr/lib/nltk_data'\n",
      "    - '/usr/share/nltk_data'\n",
      "    - '/usr/local/share/nltk_data'\n",
      "    - '/usr/lib/nltk_data'\n",
      "    - '/usr/local/lib/nltk_data'\n",
      "**********************************************************************\n",
      "\n",
      "\n",
      "Input: Keywords: ['맵찔이에게 보통맛이 맵다', '시간 지체', '불쾌한 경험', '볶음밥 양', '편안한 좌석', '닭 속까지 양념이 다 베이지 않음', '가게 안은 작다', ...\n",
      "Error: \n",
      "**********************************************************************\n",
      "  Resource \u001b[93mpunkt_tab\u001b[0m not found.\n",
      "  Please use the NLTK Downloader to obtain the resource:\n",
      "\n",
      "  \u001b[31m>>> import nltk\n",
      "  >>> nltk.download('punkt_tab')\n",
      "  \u001b[0m\n",
      "  For more information see: https://www.nltk.org/data.html\n",
      "\n",
      "  Attempted to load \u001b[93mtokenizers/punkt_tab/english/\u001b[0m\n",
      "\n",
      "  Searched in:\n",
      "    - '/root/nltk_data'\n",
      "    - '/usr/nltk_data'\n",
      "    - '/usr/share/nltk_data'\n",
      "    - '/usr/lib/nltk_data'\n",
      "    - '/usr/share/nltk_data'\n",
      "    - '/usr/local/share/nltk_data'\n",
      "    - '/usr/lib/nltk_data'\n",
      "    - '/usr/local/lib/nltk_data'\n",
      "**********************************************************************\n",
      "\n"
     ]
    }
   ],
   "source": [
    "# 결과 출력\n",
    "print_evaluation_report(results)"
   ]
  },
  {
   "cell_type": "code",
   "execution_count": null,
   "metadata": {
    "id": "oT6eOrdX6aMF"
   },
   "outputs": [],
   "source": [
    "# 결과 저장 및 시각화\n",
    "evaluator.plot_metrics(results)\n",
    "evaluator.save_results(results)"
   ]
  },
  {
   "cell_type": "markdown",
   "metadata": {
    "id": "1UgKAwqaNmeA"
   },
   "source": [
    "# 성능평가 - METEOR & BERTScore"
   ]
  },
  {
   "cell_type": "code",
   "execution_count": 4,
   "metadata": {
    "colab": {
     "base_uri": "https://localhost:8080/"
    },
    "executionInfo": {
     "elapsed": 4975,
     "status": "ok",
     "timestamp": 1736655661772,
     "user": {
      "displayName": "JIYOON OH",
      "userId": "10607774071577451844"
     },
     "user_tz": -540
    },
    "id": "90a0fMCoNj5L",
    "outputId": "0185ddb9-d0b6-491f-a960-0492cd3383e7"
   },
   "outputs": [
    {
     "name": "stdout",
     "output_type": "stream",
     "text": [
      "Collecting evaluate\n",
      "  Downloading evaluate-0.4.3-py3-none-any.whl.metadata (9.2 kB)\n",
      "Requirement already satisfied: transformers in /usr/local/lib/python3.10/dist-packages (4.47.1)\n",
      "Requirement already satisfied: nltk in /usr/local/lib/python3.10/dist-packages (3.9.1)\n",
      "Collecting bert-score\n",
      "  Downloading bert_score-0.3.13-py3-none-any.whl.metadata (15 kB)\n",
      "Collecting datasets>=2.0.0 (from evaluate)\n",
      "  Downloading datasets-3.2.0-py3-none-any.whl.metadata (20 kB)\n",
      "Requirement already satisfied: numpy>=1.17 in /usr/local/lib/python3.10/dist-packages (from evaluate) (1.26.4)\n",
      "Collecting dill (from evaluate)\n",
      "  Downloading dill-0.3.9-py3-none-any.whl.metadata (10 kB)\n",
      "Requirement already satisfied: pandas in /usr/local/lib/python3.10/dist-packages (from evaluate) (2.2.2)\n",
      "Requirement already satisfied: requests>=2.19.0 in /usr/local/lib/python3.10/dist-packages (from evaluate) (2.32.3)\n",
      "Requirement already satisfied: tqdm>=4.62.1 in /usr/local/lib/python3.10/dist-packages (from evaluate) (4.67.1)\n",
      "Collecting xxhash (from evaluate)\n",
      "  Downloading xxhash-3.5.0-cp310-cp310-manylinux_2_17_x86_64.manylinux2014_x86_64.whl.metadata (12 kB)\n",
      "Collecting multiprocess (from evaluate)\n",
      "  Downloading multiprocess-0.70.17-py310-none-any.whl.metadata (7.2 kB)\n",
      "Requirement already satisfied: fsspec>=2021.05.0 in /usr/local/lib/python3.10/dist-packages (from fsspec[http]>=2021.05.0->evaluate) (2024.10.0)\n",
      "Requirement already satisfied: huggingface-hub>=0.7.0 in /usr/local/lib/python3.10/dist-packages (from evaluate) (0.27.1)\n",
      "Requirement already satisfied: packaging in /usr/local/lib/python3.10/dist-packages (from evaluate) (24.2)\n",
      "Requirement already satisfied: filelock in /usr/local/lib/python3.10/dist-packages (from transformers) (3.16.1)\n",
      "Requirement already satisfied: pyyaml>=5.1 in /usr/local/lib/python3.10/dist-packages (from transformers) (6.0.2)\n",
      "Requirement already satisfied: regex!=2019.12.17 in /usr/local/lib/python3.10/dist-packages (from transformers) (2024.11.6)\n",
      "Requirement already satisfied: tokenizers<0.22,>=0.21 in /usr/local/lib/python3.10/dist-packages (from transformers) (0.21.0)\n",
      "Requirement already satisfied: safetensors>=0.4.1 in /usr/local/lib/python3.10/dist-packages (from transformers) (0.5.1)\n",
      "Requirement already satisfied: click in /usr/local/lib/python3.10/dist-packages (from nltk) (8.1.8)\n",
      "Requirement already satisfied: joblib in /usr/local/lib/python3.10/dist-packages (from nltk) (1.4.2)\n",
      "Requirement already satisfied: torch>=1.0.0 in /usr/local/lib/python3.10/dist-packages (from bert-score) (2.5.1+cu121)\n",
      "Requirement already satisfied: matplotlib in /usr/local/lib/python3.10/dist-packages (from bert-score) (3.10.0)\n",
      "Requirement already satisfied: pyarrow>=15.0.0 in /usr/local/lib/python3.10/dist-packages (from datasets>=2.0.0->evaluate) (17.0.0)\n",
      "Collecting dill (from evaluate)\n",
      "  Downloading dill-0.3.8-py3-none-any.whl.metadata (10 kB)\n",
      "Collecting multiprocess (from evaluate)\n",
      "  Downloading multiprocess-0.70.16-py310-none-any.whl.metadata (7.2 kB)\n",
      "Collecting fsspec>=2021.05.0 (from fsspec[http]>=2021.05.0->evaluate)\n",
      "  Downloading fsspec-2024.9.0-py3-none-any.whl.metadata (11 kB)\n",
      "Requirement already satisfied: aiohttp in /usr/local/lib/python3.10/dist-packages (from datasets>=2.0.0->evaluate) (3.11.11)\n",
      "Requirement already satisfied: typing-extensions>=3.7.4.3 in /usr/local/lib/python3.10/dist-packages (from huggingface-hub>=0.7.0->evaluate) (4.12.2)\n",
      "Requirement already satisfied: python-dateutil>=2.8.2 in /usr/local/lib/python3.10/dist-packages (from pandas->evaluate) (2.8.2)\n",
      "Requirement already satisfied: pytz>=2020.1 in /usr/local/lib/python3.10/dist-packages (from pandas->evaluate) (2024.2)\n",
      "Requirement already satisfied: tzdata>=2022.7 in /usr/local/lib/python3.10/dist-packages (from pandas->evaluate) (2024.2)\n",
      "Requirement already satisfied: charset-normalizer<4,>=2 in /usr/local/lib/python3.10/dist-packages (from requests>=2.19.0->evaluate) (3.4.1)\n",
      "Requirement already satisfied: idna<4,>=2.5 in /usr/local/lib/python3.10/dist-packages (from requests>=2.19.0->evaluate) (3.10)\n",
      "Requirement already satisfied: urllib3<3,>=1.21.1 in /usr/local/lib/python3.10/dist-packages (from requests>=2.19.0->evaluate) (2.3.0)\n",
      "Requirement already satisfied: certifi>=2017.4.17 in /usr/local/lib/python3.10/dist-packages (from requests>=2.19.0->evaluate) (2024.12.14)\n",
      "Requirement already satisfied: networkx in /usr/local/lib/python3.10/dist-packages (from torch>=1.0.0->bert-score) (3.4.2)\n",
      "Requirement already satisfied: jinja2 in /usr/local/lib/python3.10/dist-packages (from torch>=1.0.0->bert-score) (3.1.5)\n",
      "Requirement already satisfied: sympy==1.13.1 in /usr/local/lib/python3.10/dist-packages (from torch>=1.0.0->bert-score) (1.13.1)\n",
      "Requirement already satisfied: mpmath<1.4,>=1.1.0 in /usr/local/lib/python3.10/dist-packages (from sympy==1.13.1->torch>=1.0.0->bert-score) (1.3.0)\n",
      "Requirement already satisfied: contourpy>=1.0.1 in /usr/local/lib/python3.10/dist-packages (from matplotlib->bert-score) (1.3.1)\n",
      "Requirement already satisfied: cycler>=0.10 in /usr/local/lib/python3.10/dist-packages (from matplotlib->bert-score) (0.12.1)\n",
      "Requirement already satisfied: fonttools>=4.22.0 in /usr/local/lib/python3.10/dist-packages (from matplotlib->bert-score) (4.55.3)\n",
      "Requirement already satisfied: kiwisolver>=1.3.1 in /usr/local/lib/python3.10/dist-packages (from matplotlib->bert-score) (1.4.8)\n",
      "Requirement already satisfied: pillow>=8 in /usr/local/lib/python3.10/dist-packages (from matplotlib->bert-score) (11.1.0)\n",
      "Requirement already satisfied: pyparsing>=2.3.1 in /usr/local/lib/python3.10/dist-packages (from matplotlib->bert-score) (3.2.1)\n",
      "Requirement already satisfied: aiohappyeyeballs>=2.3.0 in /usr/local/lib/python3.10/dist-packages (from aiohttp->datasets>=2.0.0->evaluate) (2.4.4)\n",
      "Requirement already satisfied: aiosignal>=1.1.2 in /usr/local/lib/python3.10/dist-packages (from aiohttp->datasets>=2.0.0->evaluate) (1.3.2)\n",
      "Requirement already satisfied: async-timeout<6.0,>=4.0 in /usr/local/lib/python3.10/dist-packages (from aiohttp->datasets>=2.0.0->evaluate) (4.0.3)\n",
      "Requirement already satisfied: attrs>=17.3.0 in /usr/local/lib/python3.10/dist-packages (from aiohttp->datasets>=2.0.0->evaluate) (24.3.0)\n",
      "Requirement already satisfied: frozenlist>=1.1.1 in /usr/local/lib/python3.10/dist-packages (from aiohttp->datasets>=2.0.0->evaluate) (1.5.0)\n",
      "Requirement already satisfied: multidict<7.0,>=4.5 in /usr/local/lib/python3.10/dist-packages (from aiohttp->datasets>=2.0.0->evaluate) (6.1.0)\n",
      "Requirement already satisfied: propcache>=0.2.0 in /usr/local/lib/python3.10/dist-packages (from aiohttp->datasets>=2.0.0->evaluate) (0.2.1)\n",
      "Requirement already satisfied: yarl<2.0,>=1.17.0 in /usr/local/lib/python3.10/dist-packages (from aiohttp->datasets>=2.0.0->evaluate) (1.18.3)\n",
      "Requirement already satisfied: six>=1.5 in /usr/local/lib/python3.10/dist-packages (from python-dateutil>=2.8.2->pandas->evaluate) (1.17.0)\n",
      "Requirement already satisfied: MarkupSafe>=2.0 in /usr/local/lib/python3.10/dist-packages (from jinja2->torch>=1.0.0->bert-score) (3.0.2)\n",
      "Downloading evaluate-0.4.3-py3-none-any.whl (84 kB)\n",
      "\u001b[2K   \u001b[90m━━━━━━━━━━━━━━━━━━━━━━━━━━━━━━━━━━━━━━━━\u001b[0m \u001b[32m84.0/84.0 kB\u001b[0m \u001b[31m8.1 MB/s\u001b[0m eta \u001b[36m0:00:00\u001b[0m\n",
      "\u001b[?25hDownloading bert_score-0.3.13-py3-none-any.whl (61 kB)\n",
      "\u001b[2K   \u001b[90m━━━━━━━━━━━━━━━━━━━━━━━━━━━━━━━━━━━━━━━━\u001b[0m \u001b[32m61.1/61.1 kB\u001b[0m \u001b[31m4.9 MB/s\u001b[0m eta \u001b[36m0:00:00\u001b[0m\n",
      "\u001b[?25hDownloading datasets-3.2.0-py3-none-any.whl (480 kB)\n",
      "\u001b[2K   \u001b[90m━━━━━━━━━━━━━━━━━━━━━━━━━━━━━━━━━━━━━━━━\u001b[0m \u001b[32m480.6/480.6 kB\u001b[0m \u001b[31m35.3 MB/s\u001b[0m eta \u001b[36m0:00:00\u001b[0m\n",
      "\u001b[?25hDownloading dill-0.3.8-py3-none-any.whl (116 kB)\n",
      "\u001b[2K   \u001b[90m━━━━━━━━━━━━━━━━━━━━━━━━━━━━━━━━━━━━━━━━\u001b[0m \u001b[32m116.3/116.3 kB\u001b[0m \u001b[31m12.1 MB/s\u001b[0m eta \u001b[36m0:00:00\u001b[0m\n",
      "\u001b[?25hDownloading fsspec-2024.9.0-py3-none-any.whl (179 kB)\n",
      "\u001b[2K   \u001b[90m━━━━━━━━━━━━━━━━━━━━━━━━━━━━━━━━━━━━━━━━\u001b[0m \u001b[32m179.3/179.3 kB\u001b[0m \u001b[31m16.3 MB/s\u001b[0m eta \u001b[36m0:00:00\u001b[0m\n",
      "\u001b[?25hDownloading multiprocess-0.70.16-py310-none-any.whl (134 kB)\n",
      "\u001b[2K   \u001b[90m━━━━━━━━━━━━━━━━━━━━━━━━━━━━━━━━━━━━━━━━\u001b[0m \u001b[32m134.8/134.8 kB\u001b[0m \u001b[31m12.2 MB/s\u001b[0m eta \u001b[36m0:00:00\u001b[0m\n",
      "\u001b[?25hDownloading xxhash-3.5.0-cp310-cp310-manylinux_2_17_x86_64.manylinux2014_x86_64.whl (194 kB)\n",
      "\u001b[2K   \u001b[90m━━━━━━━━━━━━━━━━━━━━━━━━━━━━━━━━━━━━━━━━\u001b[0m \u001b[32m194.1/194.1 kB\u001b[0m \u001b[31m18.3 MB/s\u001b[0m eta \u001b[36m0:00:00\u001b[0m\n",
      "\u001b[?25hInstalling collected packages: xxhash, fsspec, dill, multiprocess, datasets, bert-score, evaluate\n",
      "  Attempting uninstall: fsspec\n",
      "    Found existing installation: fsspec 2024.10.0\n",
      "    Uninstalling fsspec-2024.10.0:\n",
      "      Successfully uninstalled fsspec-2024.10.0\n",
      "\u001b[31mERROR: pip's dependency resolver does not currently take into account all the packages that are installed. This behaviour is the source of the following dependency conflicts.\n",
      "gcsfs 2024.10.0 requires fsspec==2024.10.0, but you have fsspec 2024.9.0 which is incompatible.\u001b[0m\u001b[31m\n",
      "\u001b[0mSuccessfully installed bert-score-0.3.13 datasets-3.2.0 dill-0.3.8 evaluate-0.4.3 fsspec-2024.9.0 multiprocess-0.70.16 xxhash-3.5.0\n"
     ]
    }
   ],
   "source": [
    "!pip install evaluate transformers nltk bert-score"
   ]
  },
  {
   "cell_type": "code",
   "execution_count": 6,
   "metadata": {
    "colab": {
     "base_uri": "https://localhost:8080/"
    },
    "executionInfo": {
     "elapsed": 24724,
     "status": "ok",
     "timestamp": 1736655701026,
     "user": {
      "displayName": "JIYOON OH",
      "userId": "10607774071577451844"
     },
     "user_tz": -540
    },
    "id": "ppcUYznv5dFt",
    "outputId": "a980cebc-d8b5-4c06-ffd6-d21e5bd63518"
   },
   "outputs": [
    {
     "name": "stdout",
     "output_type": "stream",
     "text": [
      "Mounted at /content/drive\n"
     ]
    }
   ],
   "source": [
    "# 구글 드라이브 마운트 (필요한 경우)\n",
    "from google.colab import drive\n",
    "drive.mount('/content/drive')"
   ]
  },
  {
   "cell_type": "code",
   "execution_count": 26,
   "metadata": {
    "executionInfo": {
     "elapsed": 1026,
     "status": "ok",
     "timestamp": 1736656350291,
     "user": {
      "displayName": "JIYOON OH",
      "userId": "10607774071577451844"
     },
     "user_tz": -540
    },
    "id": "gWczANh7ONam"
   },
   "outputs": [],
   "source": [
    "import json\n",
    "import time\n",
    "from nltk.translate.meteor_score import single_meteor_score\n",
    "import pandas as pd\n",
    "import numpy as np\n",
    "from statistics import mean"
   ]
  },
  {
   "cell_type": "code",
   "execution_count": 40,
   "metadata": {
    "colab": {
     "base_uri": "https://localhost:8080/"
    },
    "executionInfo": {
     "elapsed": 1462,
     "status": "ok",
     "timestamp": 1736656543882,
     "user": {
      "displayName": "JIYOON OH",
      "userId": "10607774071577451844"
     },
     "user_tz": -540
    },
    "id": "gEuxGufUP-5i",
    "outputId": "bec957ed-6781-43d8-d631-738f6bd245dc"
   },
   "outputs": [
    {
     "name": "stderr",
     "output_type": "stream",
     "text": [
      "[nltk_data] Downloading package punkt to /root/nltk_data...\n",
      "[nltk_data]   Package punkt is already up-to-date!\n",
      "[nltk_data] Downloading package punkt_tab to /root/nltk_data...\n",
      "[nltk_data]   Unzipping tokenizers/punkt_tab.zip.\n",
      "[nltk_data] Downloading package wordnet to /root/nltk_data...\n",
      "[nltk_data]   Package wordnet is already up-to-date!\n",
      "[nltk_data] Downloading package omw-1.4 to /root/nltk_data...\n",
      "[nltk_data]   Package omw-1.4 is already up-to-date!\n"
     ]
    },
    {
     "data": {
      "text/plain": [
       "True"
      ]
     },
     "execution_count": 40,
     "metadata": {},
     "output_type": "execute_result"
    }
   ],
   "source": [
    "# NLTK 데이터 다운로드 (METEOR 스코어 계산에 필요)\n",
    "import nltk\n",
    "nltk.download('punkt')\n",
    "nltk.download('punkt_tab')\n",
    "nltk.download('wordnet')\n",
    "nltk.download('omw-1.4')"
   ]
  },
  {
   "cell_type": "code",
   "execution_count": 9,
   "metadata": {
    "executionInfo": {
     "elapsed": 601,
     "status": "ok",
     "timestamp": 1736655783041,
     "user": {
      "displayName": "JIYOON OH",
      "userId": "10607774071577451844"
     },
     "user_tz": -540
    },
    "id": "1L6A4sGOQ2m-"
   },
   "outputs": [],
   "source": [
    "# 1. Load validation data\n",
    "def load_validation_data(valid_data_path, num_samples=None):\n",
    "    with open(valid_data_path, 'r', encoding='utf-8') as f:\n",
    "        data = [json.loads(line) for line in f]\n",
    "    if num_samples:\n",
    "        data = data[:num_samples]\n",
    "    return data"
   ]
  },
  {
   "cell_type": "code",
   "execution_count": 10,
   "metadata": {
    "colab": {
     "base_uri": "https://localhost:8080/"
    },
    "executionInfo": {
     "elapsed": 2438,
     "status": "ok",
     "timestamp": 1736655787314,
     "user": {
      "displayName": "JIYOON OH",
      "userId": "10607774071577451844"
     },
     "user_tz": -540
    },
    "id": "6RJtvYd8RcJS",
    "outputId": "009113ca-3b90-4a6c-9c53-b1432181e345"
   },
   "outputs": [
    {
     "name": "stdout",
     "output_type": "stream",
     "text": [
      "Loaded 29 samples.\n"
     ]
    }
   ],
   "source": [
    "# 경로 설정\n",
    "SAVE_PATH = '/content/drive/MyDrive/Colab Notebooks/FineTuning_LED'\n",
    "VALID_DATA_PATH = f'{SAVE_PATH}/valid_data.jsonl'\n",
    "\n",
    "# 데이터 로드\n",
    "valid_data = load_validation_data(VALID_DATA_PATH, num_samples=None)  # 샘플 데이터 29개 로드\n",
    "print(f\"Loaded {len(valid_data)} samples.\")"
   ]
  },
  {
   "cell_type": "code",
   "execution_count": 22,
   "metadata": {
    "executionInfo": {
     "elapsed": 836,
     "status": "ok",
     "timestamp": 1736655961550,
     "user": {
      "displayName": "JIYOON OH",
      "userId": "10607774071577451844"
     },
     "user_tz": -540
    },
    "id": "NY7uETmNwtRa"
   },
   "outputs": [],
   "source": [
    "model_id = \"Add your fine tuned model ID\""
   ]
  },
  {
   "cell_type": "markdown",
   "metadata": {
    "id": "W4v602NevdOT"
   },
   "source": [
    "#### 하나의 CASE에 대한 성능평가"
   ]
  },
  {
   "cell_type": "code",
   "execution_count": 19,
   "metadata": {
    "executionInfo": {
     "elapsed": 450,
     "status": "ok",
     "timestamp": 1736655866458,
     "user": {
      "displayName": "JIYOON OH",
      "userId": "10607774071577451844"
     },
     "user_tz": -540
    },
    "id": "xqYuPLVeQ4Mv"
   },
   "outputs": [],
   "source": [
    "# 2. 1개의 TEST case에 대해 성능평가\n",
    "def evaluate_single_case(client, model_id, test_case):\n",
    "    start_time = time.time()\n",
    "    try:\n",
    "        # Model prediction\n",
    "        completion = client.chat.completions.create(\n",
    "            model=model_id,\n",
    "            messages=[\n",
    "                {\"role\": \"system\", \"content\": test_case['messages'][0]['content']},\n",
    "                {\"role\": \"user\", \"content\": test_case['messages'][1]['content']}\n",
    "            ]\n",
    "        )\n",
    "        response_time = time.time() - start_time\n",
    "\n",
    "        # Parse responses\n",
    "        true_response = json.loads(test_case['messages'][2]['content'])\n",
    "        pred_response = json.loads(completion.choices[0].message.content)\n",
    "\n",
    "        return {\n",
    "            'response_time': response_time,\n",
    "            'true_response': true_response,\n",
    "            'pred_response': pred_response\n",
    "        }\n",
    "    except Exception as e:\n",
    "        print(f\"Error in single case evaluation: {e}\")\n",
    "        return None"
   ]
  },
  {
   "cell_type": "code",
   "execution_count": 24,
   "metadata": {
    "colab": {
     "base_uri": "https://localhost:8080/"
    },
    "executionInfo": {
     "elapsed": 5887,
     "status": "ok",
     "timestamp": 1736656188958,
     "user": {
      "displayName": "JIYOON OH",
      "userId": "10607774071577451844"
     },
     "user_tz": -540
    },
    "id": "NTQRclqsRrOb",
    "outputId": "9de94cad-ab6a-4f65-92ea-8a350e5ca46f"
   },
   "outputs": [
    {
     "name": "stdout",
     "output_type": "stream",
     "text": [
      "Response Time: 5.419600486755371\n",
      "True Response: [{'category': '맛', 'group_keywords': '음식은 금방 식어버려, 화이트 라구 파스타, 맛있는지 모르겠고, 매쉬포테이토, 피클을 안주네요, 새우메뉴, 에그베네딕트, 베네딕트 느끼함, 뇨끼 자체는 제 스타일이 아니고 떡같은 스타일, 포크 라이스와 칠리 어쩌구, 향신료, 평범, 무화과 품절, 오버쿡 콜드파스타, 뇨끼 맛, 생각보다 느끼하다, 베이컨, 베네딕트 약간 맵다, 무화과 들어간 시즌메뉴, 수란, 베네딕트류 질려요, 뇨끼 쏘쏘하다, 맛이 너무 없다, 파스타 면 맛, 맛, 맛없다, 플랫화이트 맛, 스프는 정말 별로, 치킨칙피스보울 간이 부족하다, 음식이 짰다, 에그베네딕트 먹기 힘들다, 맛은, 오픈샌드위치, 가격대비 맛, 무슨 맛인지 잘 모르겠다, 뇨끼, 베네딕트 빵 너무 차갑다, 베네딕트, 지금의 맛, 짠맛, 라자냐 마니 마른 느낌, 맛이 너무 없다, 파스타 면 맛, 음식 맛, 콰트로치즈뇨끼 치즈향만 나는 느낌, 음식 느끼함', 'representative_sentence': '음식은 금방 식어버리고, 맛이 느끼하거나 부족하며, 특히 베네딕트와 뇨끼는 입맛에 맞지 않는다.'}, {'category': '위생', 'group_keywords': '푸세식 화장실, 화장실, 청소 필요, 작은 털파리 날파리, 청소, 식기류 상태, 화장실 가는 과정', 'representative_sentence': '청결 상태가 좋지 않으며 특히 화장실이 불편하고 청소가 필요하다.'}, {'category': '서비스', 'group_keywords': '직원의 응대, 피클을 안주네요, 웨이팅 싫어, 서비스 태도, 주방의 대응, 재방문 의사, 대기할 필요 없음, 전화번호 조회, 첫 방문 쿠폰', 'representative_sentence': '직원들의 응대가 미흡하고 대기 시간이 길어 서비스에 대한 만족도가 낮다.'}, {'category': '분위기', 'group_keywords': '붐비는 상황, 분위기, 자리가 협소한 점, 매장 바쁨, 손님이 없는 이유, 좁고 불편한 자리, 가게가 좁음, 좁은 좌석, 굉장히 불편함, 매장 내부 공간, 장소가 넓지 않다, 테이블이 다닥다닥 붙은 느낌, 매장 협소, 매장 안이 산만하다, 의자가 불편하다, 내부 넓지 않음, 매장 좌석', 'representative_sentence': '매장 내 좌석이 협소하고 붐비는 분위기로 인해 매우 불편하다.'}, {'category': '가성비', 'group_keywords': '가격, 돈과 시간 아깝다, 비싸게 받는다, 비싸다, 가격대도 있지만', 'representative_sentence': '가격이 비싸고 돈과 시간이 아깝다고 느끼게 한다.'}]\n",
      "Predicted Response: [{'category': '맛', 'group_keywords': '음식은 금방 식어버려, 맛있는지 모르겠고, 매쉬포테이토, 베네딕트 느끼함, 뇨끼 자체는 제 스타일이 아니고 떡같은 스타일, 포크 라이스와 칠리 어쩌구, 에그 베네딕트, 뇨끼 맛, 오버쿡 콜드파스타, 내용물, 생각보다 느끼하다, 스프는 정말 별로, 짠맛, 라자냐 마니 마른 느낌, 맛이 너무 없다, 파스타 면 맛, 플랫화이트 맛, 치킨칙피스보울 간이 부족하다, 음식이 짰다, 맛, 맛없다, 과콰몰리, 음식 맛, 음식 느끼함', 'representative_sentence': '음식이 전체적으로 느끼하고 짠맛이 강하며, 특히 뇨끼와 파스타는 오버쿡되어 식감이 좋지 않았습니다.'}, {'category': '서비스', 'group_keywords': '직원의 응대, 서비스 태도, 주방의 대응, 메뉴 지연, 전화번호 조회, 확인 문제', 'representative_sentence': '직원의 응대와 서비스 태도가 부족하고, 메뉴 제공이 늦어지는 등의 문제가 있었습니다.'}, {'category': '위생', 'group_keywords': '푸세식 화장실, 화장실, 청소 필요, 손님이 없는 이유, 작은 털파리 날파리, 청소, 화장실 번거로움, 식기류 상태', 'representative_sentence': '화장실과 매장 청소 상태가 부족하여 위생이 염려되고, 식기류 상태가 좋지 않았습니다.'}, {'category': '가성비', 'group_keywords': '가격, 돈과 시간 아깝다, 비싸게 받는다, 가격대도 있지만, 비싸다, 주차장은 다소 협소', 'representative_sentence': '음식의 맛에 비해 가격이 비싸고, 전반적으로 돈과 시간에 대한 가성비가 좋지 않았습니다.'}, {'category': '분위기', 'group_keywords': '붐비는 상황, 분위기, 자리가 협소한 점, 매장 바쁨, 좁고 불편한 자리, 오픈샌드위치, 지금의 맛, 좁은 좌석, 가게 내부 좁다, 매장 협소, 매장 안이 산만하다, 의자가 불편하다, 소리 울림', 'representative_sentence': '매장이 붐비고 자리가 협소하여 분위기가 시끄럽고 불편했습니다.'}]\n"
     ]
    }
   ],
   "source": [
    "# 첫 번째 테스트 케이스 실행\n",
    "test_case = valid_data[0]\n",
    "result = evaluate_single_case(client, model_id, test_case)\n",
    "\n",
    "if result:\n",
    "    print(f\"Response Time: {result['response_time']}\")\n",
    "    print(f\"True Response: {result['true_response']}\")\n",
    "    print(f\"Predicted Response: {result['pred_response']}\")\n",
    "else:\n",
    "    print(\"Evaluation failed for this test case.\")"
   ]
  },
  {
   "cell_type": "code",
   "execution_count": null,
   "metadata": {
    "colab": {
     "base_uri": "https://localhost:8080/",
     "height": 745
    },
    "executionInfo": {
     "elapsed": 447,
     "status": "error",
     "timestamp": 1736656372930,
     "user": {
      "displayName": "JIYOON OH",
      "userId": "10607774071577451844"
     },
     "user_tz": -540
    },
    "id": "f82nSbDBR5LI",
    "outputId": "10b0aaf5-c345-4819-c8d0-b50a12162b1b"
   },
   "outputs": [],
   "source": [
    "if result:\n",
    "    # METEOR 점수\n",
    "    meteor_score = calculate_meteor_score(result['true_response'], result['pred_response'])\n",
    "    print(f\"METEOR Score: {meteor_score}\")\n",
    "\n",
    "    # BERTScore\n",
    "    bertscore = calculate_bertscore(result['true_response'], result['pred_response'], lang='ko')\n",
    "    print(f\"BERTScore - Precision: {bertscore['precision']}, Recall: {bertscore['recall']}, F1: {bertscore['f1']}\")\n"
   ]
  },
  {
   "cell_type": "markdown",
   "metadata": {
    "id": "ZAq-uwA7wGoh"
   },
   "source": [
    "### METEOR & BERTScore 스코어 계산 함수"
   ]
  },
  {
   "cell_type": "code",
   "execution_count": 41,
   "metadata": {
    "executionInfo": {
     "elapsed": 429,
     "status": "ok",
     "timestamp": 1736656548615,
     "user": {
      "displayName": "JIYOON OH",
      "userId": "10607774071577451844"
     },
     "user_tz": -540
    },
    "id": "eq9CAJ0WQ7H4"
   },
   "outputs": [],
   "source": [
    "# 3. METEOR Score 계산 함수\n",
    "from nltk.tokenize import word_tokenize\n",
    "\n",
    "def calculate_meteor_score(true_response, pred_response):\n",
    "    meteor_scores = []\n",
    "    for true_item in true_response:\n",
    "        true_category = true_item['category']\n",
    "        true_sent = true_item.get('representative_sentence', '')\n",
    "\n",
    "        for pred_item in pred_response:\n",
    "            if pred_item['category'] == true_category:\n",
    "                pred_sent = pred_item.get('representative_sentence', '')\n",
    "\n",
    "                if true_sent and pred_sent:\n",
    "                    # nltk 토크나이저를 사용한 토큰화\n",
    "                    true_tokens = word_tokenize(true_sent)\n",
    "                    pred_tokens = word_tokenize(pred_sent)\n",
    "\n",
    "                    # METEOR 점수 계산\n",
    "                    score = single_meteor_score(true_tokens, pred_tokens)\n",
    "                    meteor_scores.append(score)\n",
    "                break\n",
    "\n",
    "    return mean(meteor_scores) if meteor_scores else 0\n"
   ]
  },
  {
   "cell_type": "code",
   "execution_count": 42,
   "metadata": {
    "executionInfo": {
     "elapsed": 586,
     "status": "ok",
     "timestamp": 1736656551220,
     "user": {
      "displayName": "JIYOON OH",
      "userId": "10607774071577451844"
     },
     "user_tz": -540
    },
    "id": "kicBFQUtQ9Dm"
   },
   "outputs": [],
   "source": [
    "# 4. Calculate BERTScore\n",
    "from bert_score import score\n",
    "\n",
    "def calculate_bertscore(true_response, pred_response, lang='ko'):\n",
    "    references = []\n",
    "    candidates = []\n",
    "\n",
    "    for true_item in true_response:\n",
    "        true_category = true_item['category']\n",
    "        true_sent = true_item.get('representative_sentence', '')\n",
    "\n",
    "        for pred_item in pred_response:\n",
    "            if pred_item['category'] == true_category:\n",
    "                pred_sent = pred_item.get('representative_sentence', '')\n",
    "                if true_sent and pred_sent:\n",
    "                    references.append(true_sent)\n",
    "                    candidates.append(pred_sent)\n",
    "                break\n",
    "\n",
    "    if references and candidates:\n",
    "        P, R, F1 = score(candidates, references, lang=lang, verbose=False)\n",
    "        return {\n",
    "            'precision': P.mean().item(),\n",
    "            'recall': R.mean().item(),\n",
    "            'f1': F1.mean().item()\n",
    "        }\n",
    "    return {'precision': 0, 'recall': 0, 'f1': 0}\n"
   ]
  },
  {
   "cell_type": "code",
   "execution_count": 43,
   "metadata": {
    "executionInfo": {
     "elapsed": 444,
     "status": "ok",
     "timestamp": 1736656553274,
     "user": {
      "displayName": "JIYOON OH",
      "userId": "10607774071577451844"
     },
     "user_tz": -540
    },
    "id": "dneyhvF_Q-oX"
   },
   "outputs": [],
   "source": [
    "# 5. Calculate category accuracy\n",
    "def calculate_category_accuracy(true_response, pred_response):\n",
    "    try:\n",
    "        true_categories = set([item['category'] for item in true_response])\n",
    "        pred_categories = set([item['category'] for item in pred_response])\n",
    "\n",
    "        return len(true_categories.intersection(pred_categories)) / len(true_categories)\n",
    "    except Exception as e:\n",
    "        print(f\"Category accuracy calculation error: {e}\")\n",
    "        return 0"
   ]
  },
  {
   "cell_type": "code",
   "execution_count": 44,
   "metadata": {
    "executionInfo": {
     "elapsed": 577,
     "status": "ok",
     "timestamp": 1736656556331,
     "user": {
      "displayName": "JIYOON OH",
      "userId": "10607774071577451844"
     },
     "user_tz": -540
    },
    "id": "e0Je6ydKRBdi"
   },
   "outputs": [],
   "source": [
    "# 6. Evaluate all test cases\n",
    "def evaluate_model(client, model_id, valid_data, lang='ko'):\n",
    "    results = []\n",
    "    metrics = {\n",
    "        'response_times': [],\n",
    "        'meteor_scores': [],\n",
    "        'bertscore_scores': [],\n",
    "        'category_accuracy': []\n",
    "    }\n",
    "\n",
    "    for test_case in valid_data:\n",
    "        result = evaluate_single_case(client, model_id, test_case)\n",
    "        if result:\n",
    "            true_response = result['true_response']\n",
    "            pred_response = result['pred_response']\n",
    "\n",
    "            meteor_score = calculate_meteor_score(true_response, pred_response)\n",
    "            bertscore = calculate_bertscore(true_response, pred_response, lang)\n",
    "            category_accuracy = calculate_category_accuracy(true_response, pred_response)\n",
    "\n",
    "            results.append({\n",
    "                'response_time': result['response_time'],\n",
    "                'meteor_score': meteor_score,\n",
    "                'bertscore': bertscore,\n",
    "                'category_accuracy': category_accuracy,\n",
    "                'true_response': true_response,\n",
    "                'pred_response': pred_response\n",
    "            })\n",
    "\n",
    "            metrics['response_times'].append(result['response_time'])\n",
    "            metrics['meteor_scores'].append(meteor_score)\n",
    "            metrics['bertscore_scores'].append(bertscore)\n",
    "            metrics['category_accuracy'].append(category_accuracy)\n",
    "\n",
    "    return metrics, results\n"
   ]
  },
  {
   "cell_type": "code",
   "execution_count": 31,
   "metadata": {
    "executionInfo": {
     "elapsed": 448,
     "status": "ok",
     "timestamp": 1736656369721,
     "user": {
      "displayName": "JIYOON OH",
      "userId": "10607774071577451844"
     },
     "user_tz": -540
    },
    "id": "soE3rhK4RC-V"
   },
   "outputs": [],
   "source": [
    "# 7. Summarize metrics\n",
    "def summarize_metrics(metrics):\n",
    "    avg_response_time = mean(metrics['response_times']) if metrics['response_times'] else 0\n",
    "    avg_meteor_score = mean(metrics['meteor_scores']) if metrics['meteor_scores'] else 0\n",
    "\n",
    "    bertscore_scores = metrics['bertscore_scores']\n",
    "    avg_bertscore = {\n",
    "        'precision': mean([score['precision'] for score in bertscore_scores]) if bertscore_scores else 0,\n",
    "        'recall': mean([score['recall'] for score in bertscore_scores]) if bertscore_scores else 0,\n",
    "        'f1': mean([score['f1'] for score in bertscore_scores]) if bertscore_scores else 0\n",
    "    }\n",
    "\n",
    "    avg_category_accuracy = mean(metrics['category_accuracy']) if metrics['category_accuracy'] else 0\n",
    "\n",
    "    return {\n",
    "        'response_time': avg_response_time,\n",
    "        'meteor_score': avg_meteor_score,\n",
    "        'bertscore': avg_bertscore,\n",
    "        'category_accuracy': avg_category_accuracy\n",
    "    }\n"
   ]
  },
  {
   "cell_type": "code",
   "execution_count": 33,
   "metadata": {
    "executionInfo": {
     "elapsed": 447,
     "status": "ok",
     "timestamp": 1736656390260,
     "user": {
      "displayName": "JIYOON OH",
      "userId": "10607774071577451844"
     },
     "user_tz": -540
    },
    "id": "iSBBnod7RFKL"
   },
   "outputs": [],
   "source": [
    "# 8. Save results to CSV\n",
    "def save_results(results, metrics, save_path):\n",
    "    detailed_results = pd.DataFrame([{\n",
    "        'response_time': r['response_time'],\n",
    "        'meteor_score': r['meteor_score'],\n",
    "        'bertscore_precision': r['bertscore']['precision'],\n",
    "        'bertscore_recall': r['bertscore']['recall'],\n",
    "        'bertscore_f1': r['bertscore']['f1'],\n",
    "        'category_accuracy': r['category_accuracy'],\n",
    "        'true_response': json.dumps(r['true_response'], ensure_ascii=False),\n",
    "        'pred_response': json.dumps(r['pred_response'], ensure_ascii=False)\n",
    "    } for r in results])\n",
    "\n",
    "    detailed_results.to_csv(f'{save_path}/evaluation_detailed_results.csv', index=False, encoding='utf-8-sig')\n",
    "\n",
    "    summary_metrics = {\n",
    "        'avg_response_time': metrics['response_time'],\n",
    "        'meteor_score': metrics['meteor_score'],\n",
    "        'bertscore_precision': metrics['bertscore']['precision'],\n",
    "        'bertscore_recall': metrics['bertscore']['recall'],\n",
    "        'bertscore_f1': metrics['bertscore']['f1'],\n",
    "        'category_accuracy': metrics['category_accuracy']\n",
    "    }\n",
    "\n",
    "    pd.DataFrame([summary_metrics]).to_csv(f'{save_path}/evaluation_summary_metrics.csv', index=False, encoding='utf-8-sig')\n"
   ]
  },
  {
   "cell_type": "code",
   "execution_count": null,
   "metadata": {
    "colab": {
     "base_uri": "https://localhost:8080/",
     "height": 267,
     "referenced_widgets": [
      "abf03931257544e591812da3e443d3ab",
      "6a3f591e4e0643d0af103654ce0691c5",
      "e7dde79ce4ec4fe8b3f757d82108a796",
      "29a15c82462844419631947917ce1e6a",
      "896e539324544d11bdf5f8dcd72d02b2",
      "91da81e1012046b3acabaa16ea4c1b41",
      "3f400cf2f40e438086bf5df81819aa9f",
      "9ebbbfeafad140be8bc9b6ebbb29bb64",
      "3739f9b7e84e4cc980961291a372e048",
      "8683ca6be5af4a06a21eb2769387abf4",
      "10351dd44ffb438fa4f6d6b75dfc5ca5",
      "51400dc03455486b9102b87e7d95b86f",
      "585c623585ed496998c804b120b989e3",
      "33859da954944d27a06810d1c0ce519e",
      "f6840589d90d48409c985dccf951037a",
      "c5b129ac68a24ddab2e989c85ccfc3ee",
      "c1e4f3678eef4b76ba5743cc8802e9dd",
      "17ba5bbdf8394636965f206866b12cac",
      "a0e190781827455c92d5abd4f7bffb62",
      "0d14e5ed8bef49d685c903c8be9ee2e8",
      "a0f26e3d62f84a2e979ad40838f6e662",
      "c1049517a37242e69d84924859b63611",
      "0ef4a3ff8a8a46dd9db6fc18851310ad",
      "7a281608968d4ca18c86bf338346ddd3",
      "3639ff99238746f4a4811885379a38f1",
      "a642819d03f04467abea6916fc4dc2b6",
      "804f606a0fae41aaaaa8fdf1a24c234f",
      "5fc5fc1741594a77a01bf24600f4fea0",
      "adfb996f6a14489ab2fb02c4e85e107e",
      "15b377ea15eb4a0fada94bb3f4416153",
      "9815572aacd94059ad57faaf6f15b71e",
      "a9cc75effcab49889f13450a74e45751",
      "36234115388540e6aa30f803525e4ad7",
      "0273b591c4794f16a8696f8a8b1ae484",
      "324c404200d04e5c941cc112cbf824df",
      "01fe3a86b5d947318ea28311cc486e8d",
      "43d61a678c754abfb926226fdc711a5f",
      "7afd45a21e404bd88021ee131496ada2",
      "132a83e71b0d42e08171b08c2cfe03a7",
      "1e0ff25bd6a8449dac67da1c75ecff7c",
      "876ac12e5df74706ac19eab91da74eab",
      "bf479c877e71439e9556f5e38f36da5b",
      "ee0ed90c6cc14ecc95e0cc0414e80159",
      "63bcd431694e4ec78ecf529ace2da93e",
      "1dadccd877684656b2b32189e7aee9a9",
      "e4ca8d01878b432c8e194b303392863a",
      "372581b77b364beebfff5ac3df1a0f3b",
      "ca5bd4403fcf4cc3a98c886316aa72bb",
      "89ef671948f14da0b3cc41c9c66339e3",
      "2885a55435204a35b880bb3045bb824a",
      "7e0a1a540fec4a3ea658f8ceaaa17416",
      "617e880a51fc4a0da4364ec77f3cfc5c",
      "a9ed25a8a2aa4f20871924a444580ddf",
      "c00c90f299c04a1a847f14539dcd26f6",
      "1bf8bde505974099a894c1eb9156c316"
     ]
    },
    "executionInfo": {
     "elapsed": 248554,
     "status": "ok",
     "timestamp": 1736656810083,
     "user": {
      "displayName": "JIYOON OH",
      "userId": "10607774071577451844"
     },
     "user_tz": -540
    },
    "id": "YU8tU_3nSBSP",
    "outputId": "8c071b2c-7aaf-4553-fe2e-9ea2d3b4ebc1"
   },
   "outputs": [],
   "source": [
    "metrics, results = evaluate_model(client, model_id, valid_data, lang='ko')\n",
    "\n",
    "# 평가 메트릭 출력\n",
    "summary = summarize_metrics(metrics)\n",
    "print(\"Evaluation Metrics:\")\n",
    "print(f\"Average Response Time: {summary['response_time']}\")\n",
    "print(f\"Average METEOR Score: {summary['meteor_score']}\")\n",
    "print(f\"BERTScore - Precision: {summary['bertscore']['precision']}, Recall: {summary['bertscore']['recall']}, F1: {summary['bertscore']['f1']}\")\n",
    "print(f\"Average Category Accuracy: {summary['category_accuracy']}\")\n"
   ]
  },
  {
   "cell_type": "code",
   "execution_count": 46,
   "metadata": {
    "colab": {
     "base_uri": "https://localhost:8080/"
    },
    "executionInfo": {
     "elapsed": 2926,
     "status": "ok",
     "timestamp": 1736656844732,
     "user": {
      "displayName": "JIYOON OH",
      "userId": "10607774071577451844"
     },
     "user_tz": -540
    },
    "id": "TK_PQecSSDFG",
    "outputId": "922537ff-569d-441b-8592-ffc34395641f"
   },
   "outputs": [
    {
     "name": "stdout",
     "output_type": "stream",
     "text": [
      "Results saved successfully to /content/drive/MyDrive/Colab Notebooks/FineTuning_LED.\n"
     ]
    }
   ],
   "source": [
    "save_results(results, summary, SAVE_PATH)\n",
    "print(f\"Results saved successfully to {SAVE_PATH}.\")"
   ]
  },
  {
   "cell_type": "markdown",
   "metadata": {
    "id": "teDjwsG7T2_u"
   },
   "source": [
    "### 시각화"
   ]
  },
  {
   "cell_type": "code",
   "execution_count": 47,
   "metadata": {
    "executionInfo": {
     "elapsed": 1058,
     "status": "ok",
     "timestamp": 1736656852608,
     "user": {
      "displayName": "JIYOON OH",
      "userId": "10607774071577451844"
     },
     "user_tz": -540
    },
    "id": "mCOvm8yRT4IN"
   },
   "outputs": [],
   "source": [
    "import matplotlib.pyplot as plt\n",
    "import seaborn as sns\n",
    "\n",
    "# 시각화를 위한 설정\n",
    "sns.set(style=\"whitegrid\")"
   ]
  },
  {
   "cell_type": "code",
   "execution_count": 48,
   "metadata": {
    "executionInfo": {
     "elapsed": 4,
     "status": "ok",
     "timestamp": 1736656854822,
     "user": {
      "displayName": "JIYOON OH",
      "userId": "10607774071577451844"
     },
     "user_tz": -540
    },
    "id": "-3_cE4qwT9Yn"
   },
   "outputs": [],
   "source": [
    "def visualize_results(metrics, save_path):\n",
    "    # 응답 시간 분포\n",
    "    plt.figure(figsize=(10, 6))\n",
    "    plt.hist(metrics['response_times'], bins=20, alpha=0.85, edgecolor='black', color='steelblue')\n",
    "    plt.title('Response Time Distribution', fontsize=16, fontweight='bold')\n",
    "    plt.xlabel('Response Time (seconds)', fontsize=12)\n",
    "    plt.ylabel('Frequency', fontsize=12)\n",
    "    plt.grid(axis='y', linestyle='--', alpha=0.7)\n",
    "    plt.tight_layout()\n",
    "    plt.savefig(f'{save_path}/response_time_distribution.png', dpi=300)\n",
    "    plt.show()\n",
    "\n",
    "    # METEOR 점수\n",
    "    plt.figure(figsize=(10, 6))\n",
    "    plt.hist(metrics['meteor_scores'], bins=20, alpha=0.85, edgecolor='black', color='darkorange')\n",
    "    plt.title('METEOR Score Distribution', fontsize=16, fontweight='bold')\n",
    "    plt.xlabel('METEOR Score', fontsize=12)\n",
    "    plt.ylabel('Frequency', fontsize=12)\n",
    "    plt.grid(axis='y', linestyle='--', alpha=0.7)\n",
    "    plt.tight_layout()\n",
    "    plt.savefig(f'{save_path}/meteor_score_distribution.png', dpi=300)\n",
    "    plt.show()\n",
    "\n",
    "    # BERTScore 분포\n",
    "    bert_scores = metrics['bertscore_scores']\n",
    "    bert_precision = [score['precision'] for score in bert_scores]\n",
    "    bert_recall = [score['recall'] for score in bert_scores]\n",
    "    bert_f1 = [score['f1'] for score in bert_scores]\n",
    "\n",
    "    plt.figure(figsize=(10, 6))\n",
    "    plt.hist(bert_precision, bins=20, alpha=0.6, label='Precision', edgecolor='black', color='green')\n",
    "    plt.hist(bert_recall, bins=20, alpha=0.6, label='Recall', edgecolor='black', color='blue')\n",
    "    plt.hist(bert_f1, bins=20, alpha=0.6, label='F1', edgecolor='black', color='purple')\n",
    "    plt.title('BERTScore Distribution', fontsize=16, fontweight='bold')\n",
    "    plt.xlabel('Score', fontsize=12)\n",
    "    plt.ylabel('Frequency', fontsize=12)\n",
    "    plt.legend(fontsize=10)\n",
    "    plt.grid(axis='y', linestyle='--', alpha=0.7)\n",
    "    plt.tight_layout()\n",
    "    plt.savefig(f'{save_path}/bertscore_distribution.png', dpi=300)\n",
    "    plt.show()\n",
    "\n",
    "    # 카테고리 정확도\n",
    "    plt.figure(figsize=(10, 6))\n",
    "    plt.hist(metrics['category_accuracy'], bins=20, alpha=0.85, edgecolor='black', color='salmon')\n",
    "    plt.title('Category Accuracy Distribution', fontsize=16, fontweight='bold')\n",
    "    plt.xlabel('Accuracy', fontsize=12)\n",
    "    plt.ylabel('Frequency', fontsize=12)\n",
    "    plt.grid(axis='y', linestyle='--', alpha=0.7)\n",
    "    plt.tight_layout()\n",
    "    plt.savefig(f'{save_path}/category_accuracy_distribution.png', dpi=300)\n",
    "    plt.show()"
   ]
  },
  {
   "cell_type": "code",
   "execution_count": 49,
   "metadata": {
    "colab": {
     "base_uri": "https://localhost:8080/",
     "height": 1000
    },
    "executionInfo": {
     "elapsed": 4625,
     "status": "ok",
     "timestamp": 1736656862663,
     "user": {
      "displayName": "JIYOON OH",
      "userId": "10607774071577451844"
     },
     "user_tz": -540
    },
    "id": "HFUJ4rqJUDBy",
    "outputId": "d91e8642-9ca5-4fed-ae4c-cb3f8b1ee67e"
   },
   "outputs": [
    {
     "data": {
      "image/png": "[encoded data removed]",
      "text/plain": [
       "<Figure size 1000x600 with 1 Axes>"
      ]
     },
     "metadata": {},
     "output_type": "display_data"
    },
    {
     "data": {
      "image/png": "[encoded data removed]",
      "text/plain": [
       "<Figure size 1000x600 with 1 Axes>"
      ]
     },
     "metadata": {},
     "output_type": "display_data"
    },
    {
     "data": {
      "image/png": "[encoded data removed]",
      "text/plain": [
       "<Figure size 1000x600 with 1 Axes>"
      ]
     },
     "metadata": {},
     "output_type": "display_data"
    },
    {
     "data": {
      "image/png": "[encoded data removed]",
      "text/plain": [
       "<Figure size 1000x600 with 1 Axes>"
      ]
     },
     "metadata": {},
     "output_type": "display_data"
    }
   ],
   "source": [
    "visualize_results(metrics, SAVE_PATH)"
   ]
  },
  {
   "cell_type": "code",
   "execution_count": 58,
   "metadata": {
    "executionInfo": {
     "elapsed": 511,
     "status": "ok",
     "timestamp": 1736657136745,
     "user": {
      "displayName": "JIYOON OH",
      "userId": "10607774071577451844"
     },
     "user_tz": -540
    },
    "id": "jvjyKnSIu_00"
   },
   "outputs": [],
   "source": [
    "def visualize_summary(summary, save_path):\n",
    "    # Summary Bar Chart (Excluding Response Time)\n",
    "    labels = ['METEOR', 'BERT Precision', 'BERT Recall', 'BERT F1', 'Category Accuracy']\n",
    "    values = [\n",
    "        summary['meteor_score'],\n",
    "        summary['bertscore']['precision'],\n",
    "        summary['bertscore']['recall'],\n",
    "        summary['bertscore']['f1'],\n",
    "        summary['category_accuracy']\n",
    "    ]\n",
    "    colors = ['darkorange', 'green', 'blue', 'purple', 'salmon']\n",
    "\n",
    "    plt.figure(figsize=(12, 7))\n",
    "    bars = plt.bar(labels, values, color=colors, alpha=0.85, edgecolor='black')\n",
    "    plt.title('Evaluation Metrics Summary', fontsize=18, fontweight='bold')\n",
    "    plt.ylabel('Score', fontsize=14)\n",
    "    plt.xticks(fontsize=12)\n",
    "    plt.yticks(fontsize=12)\n",
    "    plt.ylim(0, max(values) * 1.2)\n",
    "    plt.bar_label(bars, fmt='%.2f', fontsize=10, padding=3)\n",
    "    plt.tight_layout()\n",
    "    plt.savefig(f'{save_path}/evaluation_metrics_summary.png', dpi=300)\n",
    "    plt.show()\n",
    "\n",
    "    # Response Time Visualization (Improved)\n",
    "    response_time = summary['response_time']\n",
    "\n",
    "    plt.figure(figsize=(6, 6))\n",
    "    bar = plt.bar(['Response Time'], [response_time], color='skyblue', alpha=0.9, edgecolor='black', width=0.5)\n",
    "    plt.title('Average Response Time', fontsize=18, fontweight='bold', pad=20)\n",
    "    plt.ylabel('Time (seconds)', fontsize=14, labelpad=10)\n",
    "    plt.xticks(fontsize=12)\n",
    "    plt.yticks(fontsize=12)\n",
    "    plt.ylim(0, response_time * 1.5)\n",
    "\n",
    "    # Add value annotation above the bar\n",
    "    plt.bar_label(bar, fmt='%.2f', fontsize=12, fontweight='bold', padding=8, color='darkblue')\n",
    "\n",
    "    # Add a grid for better readability\n",
    "    plt.grid(axis='y', linestyle='--', alpha=0.6)\n",
    "    plt.tight_layout()\n",
    "    plt.savefig(f'{save_path}/response_time_summary_improved.png', dpi=300)\n",
    "    plt.show()"
   ]
  },
  {
   "cell_type": "code",
   "execution_count": 59,
   "metadata": {
    "colab": {
     "base_uri": "https://localhost:8080/",
     "height": 1000
    },
    "executionInfo": {
     "elapsed": 1885,
     "status": "ok",
     "timestamp": 1736657140693,
     "user": {
      "displayName": "JIYOON OH",
      "userId": "10607774071577451844"
     },
     "user_tz": -540
    },
    "id": "ZgWfKWuivFcd",
    "outputId": "f9a4a089-9bea-4ce6-c38b-7dcbc6ac6d7d"
   },
   "outputs": [
    {
     "data": {
      "image/png": "[encoded data removed]",
      "text/plain": [
       "<Figure size 1200x700 with 1 Axes>"
      ]
     },
     "metadata": {},
     "output_type": "display_data"
    },
    {
     "data": {
      "image/png": "[encoded data removed]",
      "text/plain": [
       "<Figure size 600x600 with 1 Axes>"
      ]
     },
     "metadata": {},
     "output_type": "display_data"
    }
   ],
   "source": [
    "visualize_summary(summary, SAVE_PATH)"
   ]
  }
 ],
 "metadata": {
  "accelerator": "GPU",
  "colab": {
   "collapsed_sections": [
    "VaIl6lwjo4Ja",
    "SVTTX8kE311E",
    "9yRhGhkCNc6S",
    "W4v602NevdOT"
   ],
   "gpuType": "T4",
   "provenance": []
  },
  "kernelspec": {
   "display_name": "Python 3",
   "name": "python3"
  },
  "language_info": {
   "name": "python"
  },
  "widgets": {
   "application/vnd.jupyter.widget-state+json": {
    "01fe3a86b5d947318ea28311cc486e8d": {
     "model_module": "@jupyter-widgets/controls",
     "model_module_version": "1.5.0",
     "model_name": "FloatProgressModel",
     "state": {
      "_dom_classes": [],
      "_model_module": "@jupyter-widgets/controls",
      "_model_module_version": "1.5.0",
      "_model_name": "FloatProgressModel",
      "_view_count": null,
      "_view_module": "@jupyter-widgets/controls",
      "_view_module_version": "1.5.0",
      "_view_name": "ProgressView",
      "bar_style": "success",
      "description": "",
      "description_tooltip": null,
      "layout": "IPY_MODEL_876ac12e5df74706ac19eab91da74eab",
      "max": 1961828,
      "min": 0,
      "orientation": "horizontal",
      "style": "IPY_MODEL_bf479c877e71439e9556f5e38f36da5b",
      "value": 1961828
     }
    },
    "0273b591c4794f16a8696f8a8b1ae484": {
     "model_module": "@jupyter-widgets/controls",
     "model_module_version": "1.5.0",
     "model_name": "HBoxModel",
     "state": {
      "_dom_classes": [],
      "_model_module": "@jupyter-widgets/controls",
      "_model_module_version": "1.5.0",
      "_model_name": "HBoxModel",
      "_view_count": null,
      "_view_module": "@jupyter-widgets/controls",
      "_view_module_version": "1.5.0",
      "_view_name": "HBoxView",
      "box_style": "",
      "children": [
       "IPY_MODEL_324c404200d04e5c941cc112cbf824df",
       "IPY_MODEL_01fe3a86b5d947318ea28311cc486e8d",
       "IPY_MODEL_43d61a678c754abfb926226fdc711a5f"
      ],
      "layout": "IPY_MODEL_7afd45a21e404bd88021ee131496ada2"
     }
    },
    "0d14e5ed8bef49d685c903c8be9ee2e8": {
     "model_module": "@jupyter-widgets/controls",
     "model_module_version": "1.5.0",
     "model_name": "ProgressStyleModel",
     "state": {
      "_model_module": "@jupyter-widgets/controls",
      "_model_module_version": "1.5.0",
      "_model_name": "ProgressStyleModel",
      "_view_count": null,
      "_view_module": "@jupyter-widgets/base",
      "_view_module_version": "1.2.0",
      "_view_name": "StyleView",
      "bar_color": null,
      "description_width": ""
     }
    },
    "0ef4a3ff8a8a46dd9db6fc18851310ad": {
     "model_module": "@jupyter-widgets/controls",
     "model_module_version": "1.5.0",
     "model_name": "HBoxModel",
     "state": {
      "_dom_classes": [],
      "_model_module": "@jupyter-widgets/controls",
      "_model_module_version": "1.5.0",
      "_model_name": "HBoxModel",
      "_view_count": null,
      "_view_module": "@jupyter-widgets/controls",
      "_view_module_version": "1.5.0",
      "_view_name": "HBoxView",
      "box_style": "",
      "children": [
       "IPY_MODEL_7a281608968d4ca18c86bf338346ddd3",
       "IPY_MODEL_3639ff99238746f4a4811885379a38f1",
       "IPY_MODEL_a642819d03f04467abea6916fc4dc2b6"
      ],
      "layout": "IPY_MODEL_804f606a0fae41aaaaa8fdf1a24c234f"
     }
    },
    "10351dd44ffb438fa4f6d6b75dfc5ca5": {
     "model_module": "@jupyter-widgets/controls",
     "model_module_version": "1.5.0",
     "model_name": "DescriptionStyleModel",
     "state": {
      "_model_module": "@jupyter-widgets/controls",
      "_model_module_version": "1.5.0",
      "_model_name": "DescriptionStyleModel",
      "_view_count": null,
      "_view_module": "@jupyter-widgets/base",
      "_view_module_version": "1.2.0",
      "_view_name": "StyleView",
      "description_width": ""
     }
    },
    "132a83e71b0d42e08171b08c2cfe03a7": {
     "model_module": "@jupyter-widgets/base",
     "model_module_version": "1.2.0",
     "model_name": "LayoutModel",
     "state": {
      "_model_module": "@jupyter-widgets/base",
      "_model_module_version": "1.2.0",
      "_model_name": "LayoutModel",
      "_view_count": null,
      "_view_module": "@jupyter-widgets/base",
      "_view_module_version": "1.2.0",
      "_view_name": "LayoutView",
      "align_content": null,
      "align_items": null,
      "align_self": null,
      "border": null,
      "bottom": null,
      "display": null,
      "flex": null,
      "flex_flow": null,
      "grid_area": null,
      "grid_auto_columns": null,
      "grid_auto_flow": null,
      "grid_auto_rows": null,
      "grid_column": null,
      "grid_gap": null,
      "grid_row": null,
      "grid_template_areas": null,
      "grid_template_columns": null,
      "grid_template_rows": null,
      "height": null,
      "justify_content": null,
      "justify_items": null,
      "left": null,
      "margin": null,
      "max_height": null,
      "max_width": null,
      "min_height": null,
      "min_width": null,
      "object_fit": null,
      "object_position": null,
      "order": null,
      "overflow": null,
      "overflow_x": null,
      "overflow_y": null,
      "padding": null,
      "right": null,
      "top": null,
      "visibility": null,
      "width": null
     }
    },
    "15b377ea15eb4a0fada94bb3f4416153": {
     "model_module": "@jupyter-widgets/base",
     "model_module_version": "1.2.0",
     "model_name": "LayoutModel",
     "state": {
      "_model_module": "@jupyter-widgets/base",
      "_model_module_version": "1.2.0",
      "_model_name": "LayoutModel",
      "_view_count": null,
      "_view_module": "@jupyter-widgets/base",
      "_view_module_version": "1.2.0",
      "_view_name": "LayoutView",
      "align_content": null,
      "align_items": null,
      "align_self": null,
      "border": null,
      "bottom": null,
      "display": null,
      "flex": null,
      "flex_flow": null,
      "grid_area": null,
      "grid_auto_columns": null,
      "grid_auto_flow": null,
      "grid_auto_rows": null,
      "grid_column": null,
      "grid_gap": null,
      "grid_row": null,
      "grid_template_areas": null,
      "grid_template_columns": null,
      "grid_template_rows": null,
      "height": null,
      "justify_content": null,
      "justify_items": null,
      "left": null,
      "margin": null,
      "max_height": null,
      "max_width": null,
      "min_height": null,
      "min_width": null,
      "object_fit": null,
      "object_position": null,
      "order": null,
      "overflow": null,
      "overflow_x": null,
      "overflow_y": null,
      "padding": null,
      "right": null,
      "top": null,
      "visibility": null,
      "width": null
     }
    },
    "17ba5bbdf8394636965f206866b12cac": {
     "model_module": "@jupyter-widgets/controls",
     "model_module_version": "1.5.0",
     "model_name": "DescriptionStyleModel",
     "state": {
      "_model_module": "@jupyter-widgets/controls",
      "_model_module_version": "1.5.0",
      "_model_name": "DescriptionStyleModel",
      "_view_count": null,
      "_view_module": "@jupyter-widgets/base",
      "_view_module_version": "1.2.0",
      "_view_name": "StyleView",
      "description_width": ""
     }
    },
    "1bf8bde505974099a894c1eb9156c316": {
     "model_module": "@jupyter-widgets/controls",
     "model_module_version": "1.5.0",
     "model_name": "DescriptionStyleModel",
     "state": {
      "_model_module": "@jupyter-widgets/controls",
      "_model_module_version": "1.5.0",
      "_model_name": "DescriptionStyleModel",
      "_view_count": null,
      "_view_module": "@jupyter-widgets/base",
      "_view_module_version": "1.2.0",
      "_view_name": "StyleView",
      "description_width": ""
     }
    },
    "1dadccd877684656b2b32189e7aee9a9": {
     "model_module": "@jupyter-widgets/controls",
     "model_module_version": "1.5.0",
     "model_name": "HBoxModel",
     "state": {
      "_dom_classes": [],
      "_model_module": "@jupyter-widgets/controls",
      "_model_module_version": "1.5.0",
      "_model_name": "HBoxModel",
      "_view_count": null,
      "_view_module": "@jupyter-widgets/controls",
      "_view_module_version": "1.5.0",
      "_view_name": "HBoxView",
      "box_style": "",
      "children": [
       "IPY_MODEL_e4ca8d01878b432c8e194b303392863a",
       "IPY_MODEL_372581b77b364beebfff5ac3df1a0f3b",
       "IPY_MODEL_ca5bd4403fcf4cc3a98c886316aa72bb"
      ],
      "layout": "IPY_MODEL_89ef671948f14da0b3cc41c9c66339e3"
     }
    },
    "1e0ff25bd6a8449dac67da1c75ecff7c": {
     "model_module": "@jupyter-widgets/controls",
     "model_module_version": "1.5.0",
     "model_name": "DescriptionStyleModel",
     "state": {
      "_model_module": "@jupyter-widgets/controls",
      "_model_module_version": "1.5.0",
      "_model_name": "DescriptionStyleModel",
      "_view_count": null,
      "_view_module": "@jupyter-widgets/base",
      "_view_module_version": "1.2.0",
      "_view_name": "StyleView",
      "description_width": ""
     }
    },
    "2885a55435204a35b880bb3045bb824a": {
     "model_module": "@jupyter-widgets/base",
     "model_module_version": "1.2.0",
     "model_name": "LayoutModel",
     "state": {
      "_model_module": "@jupyter-widgets/base",
      "_model_module_version": "1.2.0",
      "_model_name": "LayoutModel",
      "_view_count": null,
      "_view_module": "@jupyter-widgets/base",
      "_view_module_version": "1.2.0",
      "_view_name": "LayoutView",
      "align_content": null,
      "align_items": null,
      "align_self": null,
      "border": null,
      "bottom": null,
      "display": null,
      "flex": null,
      "flex_flow": null,
      "grid_area": null,
      "grid_auto_columns": null,
      "grid_auto_flow": null,
      "grid_auto_rows": null,
      "grid_column": null,
      "grid_gap": null,
      "grid_row": null,
      "grid_template_areas": null,
      "grid_template_columns": null,
      "grid_template_rows": null,
      "height": null,
      "justify_content": null,
      "justify_items": null,
      "left": null,
      "margin": null,
      "max_height": null,
      "max_width": null,
      "min_height": null,
      "min_width": null,
      "object_fit": null,
      "object_position": null,
      "order": null,
      "overflow": null,
      "overflow_x": null,
      "overflow_y": null,
      "padding": null,
      "right": null,
      "top": null,
      "visibility": null,
      "width": null
     }
    },
    "29a15c82462844419631947917ce1e6a": {
     "model_module": "@jupyter-widgets/controls",
     "model_module_version": "1.5.0",
     "model_name": "HTMLModel",
     "state": {
      "_dom_classes": [],
      "_model_module": "@jupyter-widgets/controls",
      "_model_module_version": "1.5.0",
      "_model_name": "HTMLModel",
      "_view_count": null,
      "_view_module": "@jupyter-widgets/controls",
      "_view_module_version": "1.5.0",
      "_view_name": "HTMLView",
      "description": "",
      "description_tooltip": null,
      "layout": "IPY_MODEL_8683ca6be5af4a06a21eb2769387abf4",
      "placeholder": "​",
      "style": "IPY_MODEL_10351dd44ffb438fa4f6d6b75dfc5ca5",
      "value": " 49.0/49.0 [00:00&lt;00:00, 1.82kB/s]"
     }
    },
    "324c404200d04e5c941cc112cbf824df": {
     "model_module": "@jupyter-widgets/controls",
     "model_module_version": "1.5.0",
     "model_name": "HTMLModel",
     "state": {
      "_dom_classes": [],
      "_model_module": "@jupyter-widgets/controls",
      "_model_module_version": "1.5.0",
      "_model_name": "HTMLModel",
      "_view_count": null,
      "_view_module": "@jupyter-widgets/controls",
      "_view_module_version": "1.5.0",
      "_view_name": "HTMLView",
      "description": "",
      "description_tooltip": null,
      "layout": "IPY_MODEL_132a83e71b0d42e08171b08c2cfe03a7",
      "placeholder": "​",
      "style": "IPY_MODEL_1e0ff25bd6a8449dac67da1c75ecff7c",
      "value": "tokenizer.json: 100%"
     }
    },
    "33859da954944d27a06810d1c0ce519e": {
     "model_module": "@jupyter-widgets/controls",
     "model_module_version": "1.5.0",
     "model_name": "FloatProgressModel",
     "state": {
      "_dom_classes": [],
      "_model_module": "@jupyter-widgets/controls",
      "_model_module_version": "1.5.0",
      "_model_name": "FloatProgressModel",
      "_view_count": null,
      "_view_module": "@jupyter-widgets/controls",
      "_view_module_version": "1.5.0",
      "_view_name": "ProgressView",
      "bar_style": "success",
      "description": "",
      "description_tooltip": null,
      "layout": "IPY_MODEL_a0e190781827455c92d5abd4f7bffb62",
      "max": 625,
      "min": 0,
      "orientation": "horizontal",
      "style": "IPY_MODEL_0d14e5ed8bef49d685c903c8be9ee2e8",
      "value": 625
     }
    },
    "36234115388540e6aa30f803525e4ad7": {
     "model_module": "@jupyter-widgets/controls",
     "model_module_version": "1.5.0",
     "model_name": "DescriptionStyleModel",
     "state": {
      "_model_module": "@jupyter-widgets/controls",
      "_model_module_version": "1.5.0",
      "_model_name": "DescriptionStyleModel",
      "_view_count": null,
      "_view_module": "@jupyter-widgets/base",
      "_view_module_version": "1.2.0",
      "_view_name": "StyleView",
      "description_width": ""
     }
    },
    "3639ff99238746f4a4811885379a38f1": {
     "model_module": "@jupyter-widgets/controls",
     "model_module_version": "1.5.0",
     "model_name": "FloatProgressModel",
     "state": {
      "_dom_classes": [],
      "_model_module": "@jupyter-widgets/controls",
      "_model_module_version": "1.5.0",
      "_model_name": "FloatProgressModel",
      "_view_count": null,
      "_view_module": "@jupyter-widgets/controls",
      "_view_module_version": "1.5.0",
      "_view_name": "ProgressView",
      "bar_style": "success",
      "description": "",
      "description_tooltip": null,
      "layout": "IPY_MODEL_15b377ea15eb4a0fada94bb3f4416153",
      "max": 995526,
      "min": 0,
      "orientation": "horizontal",
      "style": "IPY_MODEL_9815572aacd94059ad57faaf6f15b71e",
      "value": 995526
     }
    },
    "372581b77b364beebfff5ac3df1a0f3b": {
     "model_module": "@jupyter-widgets/controls",
     "model_module_version": "1.5.0",
     "model_name": "FloatProgressModel",
     "state": {
      "_dom_classes": [],
      "_model_module": "@jupyter-widgets/controls",
      "_model_module_version": "1.5.0",
      "_model_name": "FloatProgressModel",
      "_view_count": null,
      "_view_module": "@jupyter-widgets/controls",
      "_view_module_version": "1.5.0",
      "_view_name": "ProgressView",
      "bar_style": "success",
      "description": "",
      "description_tooltip": null,
      "layout": "IPY_MODEL_617e880a51fc4a0da4364ec77f3cfc5c",
      "max": 714290682,
      "min": 0,
      "orientation": "horizontal",
      "style": "IPY_MODEL_a9ed25a8a2aa4f20871924a444580ddf",
      "value": 714290682
     }
    },
    "3739f9b7e84e4cc980961291a372e048": {
     "model_module": "@jupyter-widgets/controls",
     "model_module_version": "1.5.0",
     "model_name": "ProgressStyleModel",
     "state": {
      "_model_module": "@jupyter-widgets/controls",
      "_model_module_version": "1.5.0",
      "_model_name": "ProgressStyleModel",
      "_view_count": null,
      "_view_module": "@jupyter-widgets/base",
      "_view_module_version": "1.2.0",
      "_view_name": "StyleView",
      "bar_color": null,
      "description_width": ""
     }
    },
    "3f400cf2f40e438086bf5df81819aa9f": {
     "model_module": "@jupyter-widgets/controls",
     "model_module_version": "1.5.0",
     "model_name": "DescriptionStyleModel",
     "state": {
      "_model_module": "@jupyter-widgets/controls",
      "_model_module_version": "1.5.0",
      "_model_name": "DescriptionStyleModel",
      "_view_count": null,
      "_view_module": "@jupyter-widgets/base",
      "_view_module_version": "1.2.0",
      "_view_name": "StyleView",
      "description_width": ""
     }
    },
    "43d61a678c754abfb926226fdc711a5f": {
     "model_module": "@jupyter-widgets/controls",
     "model_module_version": "1.5.0",
     "model_name": "HTMLModel",
     "state": {
      "_dom_classes": [],
      "_model_module": "@jupyter-widgets/controls",
      "_model_module_version": "1.5.0",
      "_model_name": "HTMLModel",
      "_view_count": null,
      "_view_module": "@jupyter-widgets/controls",
      "_view_module_version": "1.5.0",
      "_view_name": "HTMLView",
      "description": "",
      "description_tooltip": null,
      "layout": "IPY_MODEL_ee0ed90c6cc14ecc95e0cc0414e80159",
      "placeholder": "​",
      "style": "IPY_MODEL_63bcd431694e4ec78ecf529ace2da93e",
      "value": " 1.96M/1.96M [00:00&lt;00:00, 2.29MB/s]"
     }
    },
    "51400dc03455486b9102b87e7d95b86f": {
     "model_module": "@jupyter-widgets/controls",
     "model_module_version": "1.5.0",
     "model_name": "HBoxModel",
     "state": {
      "_dom_classes": [],
      "_model_module": "@jupyter-widgets/controls",
      "_model_module_version": "1.5.0",
      "_model_name": "HBoxModel",
      "_view_count": null,
      "_view_module": "@jupyter-widgets/controls",
      "_view_module_version": "1.5.0",
      "_view_name": "HBoxView",
      "box_style": "",
      "children": [
       "IPY_MODEL_585c623585ed496998c804b120b989e3",
       "IPY_MODEL_33859da954944d27a06810d1c0ce519e",
       "IPY_MODEL_f6840589d90d48409c985dccf951037a"
      ],
      "layout": "IPY_MODEL_c5b129ac68a24ddab2e989c85ccfc3ee"
     }
    },
    "585c623585ed496998c804b120b989e3": {
     "model_module": "@jupyter-widgets/controls",
     "model_module_version": "1.5.0",
     "model_name": "HTMLModel",
     "state": {
      "_dom_classes": [],
      "_model_module": "@jupyter-widgets/controls",
      "_model_module_version": "1.5.0",
      "_model_name": "HTMLModel",
      "_view_count": null,
      "_view_module": "@jupyter-widgets/controls",
      "_view_module_version": "1.5.0",
      "_view_name": "HTMLView",
      "description": "",
      "description_tooltip": null,
      "layout": "IPY_MODEL_c1e4f3678eef4b76ba5743cc8802e9dd",
      "placeholder": "​",
      "style": "IPY_MODEL_17ba5bbdf8394636965f206866b12cac",
      "value": "config.json: 100%"
     }
    },
    "5fc5fc1741594a77a01bf24600f4fea0": {
     "model_module": "@jupyter-widgets/base",
     "model_module_version": "1.2.0",
     "model_name": "LayoutModel",
     "state": {
      "_model_module": "@jupyter-widgets/base",
      "_model_module_version": "1.2.0",
      "_model_name": "LayoutModel",
      "_view_count": null,
      "_view_module": "@jupyter-widgets/base",
      "_view_module_version": "1.2.0",
      "_view_name": "LayoutView",
      "align_content": null,
      "align_items": null,
      "align_self": null,
      "border": null,
      "bottom": null,
      "display": null,
      "flex": null,
      "flex_flow": null,
      "grid_area": null,
      "grid_auto_columns": null,
      "grid_auto_flow": null,
      "grid_auto_rows": null,
      "grid_column": null,
      "grid_gap": null,
      "grid_row": null,
      "grid_template_areas": null,
      "grid_template_columns": null,
      "grid_template_rows": null,
      "height": null,
      "justify_content": null,
      "justify_items": null,
      "left": null,
      "margin": null,
      "max_height": null,
      "max_width": null,
      "min_height": null,
      "min_width": null,
      "object_fit": null,
      "object_position": null,
      "order": null,
      "overflow": null,
      "overflow_x": null,
      "overflow_y": null,
      "padding": null,
      "right": null,
      "top": null,
      "visibility": null,
      "width": null
     }
    },
    "617e880a51fc4a0da4364ec77f3cfc5c": {
     "model_module": "@jupyter-widgets/base",
     "model_module_version": "1.2.0",
     "model_name": "LayoutModel",
     "state": {
      "_model_module": "@jupyter-widgets/base",
      "_model_module_version": "1.2.0",
      "_model_name": "LayoutModel",
      "_view_count": null,
      "_view_module": "@jupyter-widgets/base",
      "_view_module_version": "1.2.0",
      "_view_name": "LayoutView",
      "align_content": null,
      "align_items": null,
      "align_self": null,
      "border": null,
      "bottom": null,
      "display": null,
      "flex": null,
      "flex_flow": null,
      "grid_area": null,
      "grid_auto_columns": null,
      "grid_auto_flow": null,
      "grid_auto_rows": null,
      "grid_column": null,
      "grid_gap": null,
      "grid_row": null,
      "grid_template_areas": null,
      "grid_template_columns": null,
      "grid_template_rows": null,
      "height": null,
      "justify_content": null,
      "justify_items": null,
      "left": null,
      "margin": null,
      "max_height": null,
      "max_width": null,
      "min_height": null,
      "min_width": null,
      "object_fit": null,
      "object_position": null,
      "order": null,
      "overflow": null,
      "overflow_x": null,
      "overflow_y": null,
      "padding": null,
      "right": null,
      "top": null,
      "visibility": null,
      "width": null
     }
    },
    "63bcd431694e4ec78ecf529ace2da93e": {
     "model_module": "@jupyter-widgets/controls",
     "model_module_version": "1.5.0",
     "model_name": "DescriptionStyleModel",
     "state": {
      "_model_module": "@jupyter-widgets/controls",
      "_model_module_version": "1.5.0",
      "_model_name": "DescriptionStyleModel",
      "_view_count": null,
      "_view_module": "@jupyter-widgets/base",
      "_view_module_version": "1.2.0",
      "_view_name": "StyleView",
      "description_width": ""
     }
    },
    "6a3f591e4e0643d0af103654ce0691c5": {
     "model_module": "@jupyter-widgets/controls",
     "model_module_version": "1.5.0",
     "model_name": "HTMLModel",
     "state": {
      "_dom_classes": [],
      "_model_module": "@jupyter-widgets/controls",
      "_model_module_version": "1.5.0",
      "_model_name": "HTMLModel",
      "_view_count": null,
      "_view_module": "@jupyter-widgets/controls",
      "_view_module_version": "1.5.0",
      "_view_name": "HTMLView",
      "description": "",
      "description_tooltip": null,
      "layout": "IPY_MODEL_91da81e1012046b3acabaa16ea4c1b41",
      "placeholder": "​",
      "style": "IPY_MODEL_3f400cf2f40e438086bf5df81819aa9f",
      "value": "tokenizer_config.json: 100%"
     }
    },
    "7a281608968d4ca18c86bf338346ddd3": {
     "model_module": "@jupyter-widgets/controls",
     "model_module_version": "1.5.0",
     "model_name": "HTMLModel",
     "state": {
      "_dom_classes": [],
      "_model_module": "@jupyter-widgets/controls",
      "_model_module_version": "1.5.0",
      "_model_name": "HTMLModel",
      "_view_count": null,
      "_view_module": "@jupyter-widgets/controls",
      "_view_module_version": "1.5.0",
      "_view_name": "HTMLView",
      "description": "",
      "description_tooltip": null,
      "layout": "IPY_MODEL_5fc5fc1741594a77a01bf24600f4fea0",
      "placeholder": "​",
      "style": "IPY_MODEL_adfb996f6a14489ab2fb02c4e85e107e",
      "value": "vocab.txt: 100%"
     }
    },
    "7afd45a21e404bd88021ee131496ada2": {
     "model_module": "@jupyter-widgets/base",
     "model_module_version": "1.2.0",
     "model_name": "LayoutModel",
     "state": {
      "_model_module": "@jupyter-widgets/base",
      "_model_module_version": "1.2.0",
      "_model_name": "LayoutModel",
      "_view_count": null,
      "_view_module": "@jupyter-widgets/base",
      "_view_module_version": "1.2.0",
      "_view_name": "LayoutView",
      "align_content": null,
      "align_items": null,
      "align_self": null,
      "border": null,
      "bottom": null,
      "display": null,
      "flex": null,
      "flex_flow": null,
      "grid_area": null,
      "grid_auto_columns": null,
      "grid_auto_flow": null,
      "grid_auto_rows": null,
      "grid_column": null,
      "grid_gap": null,
      "grid_row": null,
      "grid_template_areas": null,
      "grid_template_columns": null,
      "grid_template_rows": null,
      "height": null,
      "justify_content": null,
      "justify_items": null,
      "left": null,
      "margin": null,
      "max_height": null,
      "max_width": null,
      "min_height": null,
      "min_width": null,
      "object_fit": null,
      "object_position": null,
      "order": null,
      "overflow": null,
      "overflow_x": null,
      "overflow_y": null,
      "padding": null,
      "right": null,
      "top": null,
      "visibility": null,
      "width": null
     }
    },
    "7e0a1a540fec4a3ea658f8ceaaa17416": {
     "model_module": "@jupyter-widgets/controls",
     "model_module_version": "1.5.0",
     "model_name": "DescriptionStyleModel",
     "state": {
      "_model_module": "@jupyter-widgets/controls",
      "_model_module_version": "1.5.0",
      "_model_name": "DescriptionStyleModel",
      "_view_count": null,
      "_view_module": "@jupyter-widgets/base",
      "_view_module_version": "1.2.0",
      "_view_name": "StyleView",
      "description_width": ""
     }
    },
    "804f606a0fae41aaaaa8fdf1a24c234f": {
     "model_module": "@jupyter-widgets/base",
     "model_module_version": "1.2.0",
     "model_name": "LayoutModel",
     "state": {
      "_model_module": "@jupyter-widgets/base",
      "_model_module_version": "1.2.0",
      "_model_name": "LayoutModel",
      "_view_count": null,
      "_view_module": "@jupyter-widgets/base",
      "_view_module_version": "1.2.0",
      "_view_name": "LayoutView",
      "align_content": null,
      "align_items": null,
      "align_self": null,
      "border": null,
      "bottom": null,
      "display": null,
      "flex": null,
      "flex_flow": null,
      "grid_area": null,
      "grid_auto_columns": null,
      "grid_auto_flow": null,
      "grid_auto_rows": null,
      "grid_column": null,
      "grid_gap": null,
      "grid_row": null,
      "grid_template_areas": null,
      "grid_template_columns": null,
      "grid_template_rows": null,
      "height": null,
      "justify_content": null,
      "justify_items": null,
      "left": null,
      "margin": null,
      "max_height": null,
      "max_width": null,
      "min_height": null,
      "min_width": null,
      "object_fit": null,
      "object_position": null,
      "order": null,
      "overflow": null,
      "overflow_x": null,
      "overflow_y": null,
      "padding": null,
      "right": null,
      "top": null,
      "visibility": null,
      "width": null
     }
    },
    "8683ca6be5af4a06a21eb2769387abf4": {
     "model_module": "@jupyter-widgets/base",
     "model_module_version": "1.2.0",
     "model_name": "LayoutModel",
     "state": {
      "_model_module": "@jupyter-widgets/base",
      "_model_module_version": "1.2.0",
      "_model_name": "LayoutModel",
      "_view_count": null,
      "_view_module": "@jupyter-widgets/base",
      "_view_module_version": "1.2.0",
      "_view_name": "LayoutView",
      "align_content": null,
      "align_items": null,
      "align_self": null,
      "border": null,
      "bottom": null,
      "display": null,
      "flex": null,
      "flex_flow": null,
      "grid_area": null,
      "grid_auto_columns": null,
      "grid_auto_flow": null,
      "grid_auto_rows": null,
      "grid_column": null,
      "grid_gap": null,
      "grid_row": null,
      "grid_template_areas": null,
      "grid_template_columns": null,
      "grid_template_rows": null,
      "height": null,
      "justify_content": null,
      "justify_items": null,
      "left": null,
      "margin": null,
      "max_height": null,
      "max_width": null,
      "min_height": null,
      "min_width": null,
      "object_fit": null,
      "object_position": null,
      "order": null,
      "overflow": null,
      "overflow_x": null,
      "overflow_y": null,
      "padding": null,
      "right": null,
      "top": null,
      "visibility": null,
      "width": null
     }
    },
    "876ac12e5df74706ac19eab91da74eab": {
     "model_module": "@jupyter-widgets/base",
     "model_module_version": "1.2.0",
     "model_name": "LayoutModel",
     "state": {
      "_model_module": "@jupyter-widgets/base",
      "_model_module_version": "1.2.0",
      "_model_name": "LayoutModel",
      "_view_count": null,
      "_view_module": "@jupyter-widgets/base",
      "_view_module_version": "1.2.0",
      "_view_name": "LayoutView",
      "align_content": null,
      "align_items": null,
      "align_self": null,
      "border": null,
      "bottom": null,
      "display": null,
      "flex": null,
      "flex_flow": null,
      "grid_area": null,
      "grid_auto_columns": null,
      "grid_auto_flow": null,
      "grid_auto_rows": null,
      "grid_column": null,
      "grid_gap": null,
      "grid_row": null,
      "grid_template_areas": null,
      "grid_template_columns": null,
      "grid_template_rows": null,
      "height": null,
      "justify_content": null,
      "justify_items": null,
      "left": null,
      "margin": null,
      "max_height": null,
      "max_width": null,
      "min_height": null,
      "min_width": null,
      "object_fit": null,
      "object_position": null,
      "order": null,
      "overflow": null,
      "overflow_x": null,
      "overflow_y": null,
      "padding": null,
      "right": null,
      "top": null,
      "visibility": null,
      "width": null
     }
    },
    "896e539324544d11bdf5f8dcd72d02b2": {
     "model_module": "@jupyter-widgets/base",
     "model_module_version": "1.2.0",
     "model_name": "LayoutModel",
     "state": {
      "_model_module": "@jupyter-widgets/base",
      "_model_module_version": "1.2.0",
      "_model_name": "LayoutModel",
      "_view_count": null,
      "_view_module": "@jupyter-widgets/base",
      "_view_module_version": "1.2.0",
      "_view_name": "LayoutView",
      "align_content": null,
      "align_items": null,
      "align_self": null,
      "border": null,
      "bottom": null,
      "display": null,
      "flex": null,
      "flex_flow": null,
      "grid_area": null,
      "grid_auto_columns": null,
      "grid_auto_flow": null,
      "grid_auto_rows": null,
      "grid_column": null,
      "grid_gap": null,
      "grid_row": null,
      "grid_template_areas": null,
      "grid_template_columns": null,
      "grid_template_rows": null,
      "height": null,
      "justify_content": null,
      "justify_items": null,
      "left": null,
      "margin": null,
      "max_height": null,
      "max_width": null,
      "min_height": null,
      "min_width": null,
      "object_fit": null,
      "object_position": null,
      "order": null,
      "overflow": null,
      "overflow_x": null,
      "overflow_y": null,
      "padding": null,
      "right": null,
      "top": null,
      "visibility": null,
      "width": null
     }
    },
    "89ef671948f14da0b3cc41c9c66339e3": {
     "model_module": "@jupyter-widgets/base",
     "model_module_version": "1.2.0",
     "model_name": "LayoutModel",
     "state": {
      "_model_module": "@jupyter-widgets/base",
      "_model_module_version": "1.2.0",
      "_model_name": "LayoutModel",
      "_view_count": null,
      "_view_module": "@jupyter-widgets/base",
      "_view_module_version": "1.2.0",
      "_view_name": "LayoutView",
      "align_content": null,
      "align_items": null,
      "align_self": null,
      "border": null,
      "bottom": null,
      "display": null,
      "flex": null,
      "flex_flow": null,
      "grid_area": null,
      "grid_auto_columns": null,
      "grid_auto_flow": null,
      "grid_auto_rows": null,
      "grid_column": null,
      "grid_gap": null,
      "grid_row": null,
      "grid_template_areas": null,
      "grid_template_columns": null,
      "grid_template_rows": null,
      "height": null,
      "justify_content": null,
      "justify_items": null,
      "left": null,
      "margin": null,
      "max_height": null,
      "max_width": null,
      "min_height": null,
      "min_width": null,
      "object_fit": null,
      "object_position": null,
      "order": null,
      "overflow": null,
      "overflow_x": null,
      "overflow_y": null,
      "padding": null,
      "right": null,
      "top": null,
      "visibility": null,
      "width": null
     }
    },
    "91da81e1012046b3acabaa16ea4c1b41": {
     "model_module": "@jupyter-widgets/base",
     "model_module_version": "1.2.0",
     "model_name": "LayoutModel",
     "state": {
      "_model_module": "@jupyter-widgets/base",
      "_model_module_version": "1.2.0",
      "_model_name": "LayoutModel",
      "_view_count": null,
      "_view_module": "@jupyter-widgets/base",
      "_view_module_version": "1.2.0",
      "_view_name": "LayoutView",
      "align_content": null,
      "align_items": null,
      "align_self": null,
      "border": null,
      "bottom": null,
      "display": null,
      "flex": null,
      "flex_flow": null,
      "grid_area": null,
      "grid_auto_columns": null,
      "grid_auto_flow": null,
      "grid_auto_rows": null,
      "grid_column": null,
      "grid_gap": null,
      "grid_row": null,
      "grid_template_areas": null,
      "grid_template_columns": null,
      "grid_template_rows": null,
      "height": null,
      "justify_content": null,
      "justify_items": null,
      "left": null,
      "margin": null,
      "max_height": null,
      "max_width": null,
      "min_height": null,
      "min_width": null,
      "object_fit": null,
      "object_position": null,
      "order": null,
      "overflow": null,
      "overflow_x": null,
      "overflow_y": null,
      "padding": null,
      "right": null,
      "top": null,
      "visibility": null,
      "width": null
     }
    },
    "9815572aacd94059ad57faaf6f15b71e": {
     "model_module": "@jupyter-widgets/controls",
     "model_module_version": "1.5.0",
     "model_name": "ProgressStyleModel",
     "state": {
      "_model_module": "@jupyter-widgets/controls",
      "_model_module_version": "1.5.0",
      "_model_name": "ProgressStyleModel",
      "_view_count": null,
      "_view_module": "@jupyter-widgets/base",
      "_view_module_version": "1.2.0",
      "_view_name": "StyleView",
      "bar_color": null,
      "description_width": ""
     }
    },
    "9ebbbfeafad140be8bc9b6ebbb29bb64": {
     "model_module": "@jupyter-widgets/base",
     "model_module_version": "1.2.0",
     "model_name": "LayoutModel",
     "state": {
      "_model_module": "@jupyter-widgets/base",
      "_model_module_version": "1.2.0",
      "_model_name": "LayoutModel",
      "_view_count": null,
      "_view_module": "@jupyter-widgets/base",
      "_view_module_version": "1.2.0",
      "_view_name": "LayoutView",
      "align_content": null,
      "align_items": null,
      "align_self": null,
      "border": null,
      "bottom": null,
      "display": null,
      "flex": null,
      "flex_flow": null,
      "grid_area": null,
      "grid_auto_columns": null,
      "grid_auto_flow": null,
      "grid_auto_rows": null,
      "grid_column": null,
      "grid_gap": null,
      "grid_row": null,
      "grid_template_areas": null,
      "grid_template_columns": null,
      "grid_template_rows": null,
      "height": null,
      "justify_content": null,
      "justify_items": null,
      "left": null,
      "margin": null,
      "max_height": null,
      "max_width": null,
      "min_height": null,
      "min_width": null,
      "object_fit": null,
      "object_position": null,
      "order": null,
      "overflow": null,
      "overflow_x": null,
      "overflow_y": null,
      "padding": null,
      "right": null,
      "top": null,
      "visibility": null,
      "width": null
     }
    },
    "a0e190781827455c92d5abd4f7bffb62": {
     "model_module": "@jupyter-widgets/base",
     "model_module_version": "1.2.0",
     "model_name": "LayoutModel",
     "state": {
      "_model_module": "@jupyter-widgets/base",
      "_model_module_version": "1.2.0",
      "_model_name": "LayoutModel",
      "_view_count": null,
      "_view_module": "@jupyter-widgets/base",
      "_view_module_version": "1.2.0",
      "_view_name": "LayoutView",
      "align_content": null,
      "align_items": null,
      "align_self": null,
      "border": null,
      "bottom": null,
      "display": null,
      "flex": null,
      "flex_flow": null,
      "grid_area": null,
      "grid_auto_columns": null,
      "grid_auto_flow": null,
      "grid_auto_rows": null,
      "grid_column": null,
      "grid_gap": null,
      "grid_row": null,
      "grid_template_areas": null,
      "grid_template_columns": null,
      "grid_template_rows": null,
      "height": null,
      "justify_content": null,
      "justify_items": null,
      "left": null,
      "margin": null,
      "max_height": null,
      "max_width": null,
      "min_height": null,
      "min_width": null,
      "object_fit": null,
      "object_position": null,
      "order": null,
      "overflow": null,
      "overflow_x": null,
      "overflow_y": null,
      "padding": null,
      "right": null,
      "top": null,
      "visibility": null,
      "width": null
     }
    },
    "a0f26e3d62f84a2e979ad40838f6e662": {
     "model_module": "@jupyter-widgets/base",
     "model_module_version": "1.2.0",
     "model_name": "LayoutModel",
     "state": {
      "_model_module": "@jupyter-widgets/base",
      "_model_module_version": "1.2.0",
      "_model_name": "LayoutModel",
      "_view_count": null,
      "_view_module": "@jupyter-widgets/base",
      "_view_module_version": "1.2.0",
      "_view_name": "LayoutView",
      "align_content": null,
      "align_items": null,
      "align_self": null,
      "border": null,
      "bottom": null,
      "display": null,
      "flex": null,
      "flex_flow": null,
      "grid_area": null,
      "grid_auto_columns": null,
      "grid_auto_flow": null,
      "grid_auto_rows": null,
      "grid_column": null,
      "grid_gap": null,
      "grid_row": null,
      "grid_template_areas": null,
      "grid_template_columns": null,
      "grid_template_rows": null,
      "height": null,
      "justify_content": null,
      "justify_items": null,
      "left": null,
      "margin": null,
      "max_height": null,
      "max_width": null,
      "min_height": null,
      "min_width": null,
      "object_fit": null,
      "object_position": null,
      "order": null,
      "overflow": null,
      "overflow_x": null,
      "overflow_y": null,
      "padding": null,
      "right": null,
      "top": null,
      "visibility": null,
      "width": null
     }
    },
    "a642819d03f04467abea6916fc4dc2b6": {
     "model_module": "@jupyter-widgets/controls",
     "model_module_version": "1.5.0",
     "model_name": "HTMLModel",
     "state": {
      "_dom_classes": [],
      "_model_module": "@jupyter-widgets/controls",
      "_model_module_version": "1.5.0",
      "_model_name": "HTMLModel",
      "_view_count": null,
      "_view_module": "@jupyter-widgets/controls",
      "_view_module_version": "1.5.0",
      "_view_name": "HTMLView",
      "description": "",
      "description_tooltip": null,
      "layout": "IPY_MODEL_a9cc75effcab49889f13450a74e45751",
      "placeholder": "​",
      "style": "IPY_MODEL_36234115388540e6aa30f803525e4ad7",
      "value": " 996k/996k [00:00&lt;00:00, 1.58MB/s]"
     }
    },
    "a9cc75effcab49889f13450a74e45751": {
     "model_module": "@jupyter-widgets/base",
     "model_module_version": "1.2.0",
     "model_name": "LayoutModel",
     "state": {
      "_model_module": "@jupyter-widgets/base",
      "_model_module_version": "1.2.0",
      "_model_name": "LayoutModel",
      "_view_count": null,
      "_view_module": "@jupyter-widgets/base",
      "_view_module_version": "1.2.0",
      "_view_name": "LayoutView",
      "align_content": null,
      "align_items": null,
      "align_self": null,
      "border": null,
      "bottom": null,
      "display": null,
      "flex": null,
      "flex_flow": null,
      "grid_area": null,
      "grid_auto_columns": null,
      "grid_auto_flow": null,
      "grid_auto_rows": null,
      "grid_column": null,
      "grid_gap": null,
      "grid_row": null,
      "grid_template_areas": null,
      "grid_template_columns": null,
      "grid_template_rows": null,
      "height": null,
      "justify_content": null,
      "justify_items": null,
      "left": null,
      "margin": null,
      "max_height": null,
      "max_width": null,
      "min_height": null,
      "min_width": null,
      "object_fit": null,
      "object_position": null,
      "order": null,
      "overflow": null,
      "overflow_x": null,
      "overflow_y": null,
      "padding": null,
      "right": null,
      "top": null,
      "visibility": null,
      "width": null
     }
    },
    "a9ed25a8a2aa4f20871924a444580ddf": {
     "model_module": "@jupyter-widgets/controls",
     "model_module_version": "1.5.0",
     "model_name": "ProgressStyleModel",
     "state": {
      "_model_module": "@jupyter-widgets/controls",
      "_model_module_version": "1.5.0",
      "_model_name": "ProgressStyleModel",
      "_view_count": null,
      "_view_module": "@jupyter-widgets/base",
      "_view_module_version": "1.2.0",
      "_view_name": "StyleView",
      "bar_color": null,
      "description_width": ""
     }
    },
    "abf03931257544e591812da3e443d3ab": {
     "model_module": "@jupyter-widgets/controls",
     "model_module_version": "1.5.0",
     "model_name": "HBoxModel",
     "state": {
      "_dom_classes": [],
      "_model_module": "@jupyter-widgets/controls",
      "_model_module_version": "1.5.0",
      "_model_name": "HBoxModel",
      "_view_count": null,
      "_view_module": "@jupyter-widgets/controls",
      "_view_module_version": "1.5.0",
      "_view_name": "HBoxView",
      "box_style": "",
      "children": [
       "IPY_MODEL_6a3f591e4e0643d0af103654ce0691c5",
       "IPY_MODEL_e7dde79ce4ec4fe8b3f757d82108a796",
       "IPY_MODEL_29a15c82462844419631947917ce1e6a"
      ],
      "layout": "IPY_MODEL_896e539324544d11bdf5f8dcd72d02b2"
     }
    },
    "adfb996f6a14489ab2fb02c4e85e107e": {
     "model_module": "@jupyter-widgets/controls",
     "model_module_version": "1.5.0",
     "model_name": "DescriptionStyleModel",
     "state": {
      "_model_module": "@jupyter-widgets/controls",
      "_model_module_version": "1.5.0",
      "_model_name": "DescriptionStyleModel",
      "_view_count": null,
      "_view_module": "@jupyter-widgets/base",
      "_view_module_version": "1.2.0",
      "_view_name": "StyleView",
      "description_width": ""
     }
    },
    "bf479c877e71439e9556f5e38f36da5b": {
     "model_module": "@jupyter-widgets/controls",
     "model_module_version": "1.5.0",
     "model_name": "ProgressStyleModel",
     "state": {
      "_model_module": "@jupyter-widgets/controls",
      "_model_module_version": "1.5.0",
      "_model_name": "ProgressStyleModel",
      "_view_count": null,
      "_view_module": "@jupyter-widgets/base",
      "_view_module_version": "1.2.0",
      "_view_name": "StyleView",
      "bar_color": null,
      "description_width": ""
     }
    },
    "c00c90f299c04a1a847f14539dcd26f6": {
     "model_module": "@jupyter-widgets/base",
     "model_module_version": "1.2.0",
     "model_name": "LayoutModel",
     "state": {
      "_model_module": "@jupyter-widgets/base",
      "_model_module_version": "1.2.0",
      "_model_name": "LayoutModel",
      "_view_count": null,
      "_view_module": "@jupyter-widgets/base",
      "_view_module_version": "1.2.0",
      "_view_name": "LayoutView",
      "align_content": null,
      "align_items": null,
      "align_self": null,
      "border": null,
      "bottom": null,
      "display": null,
      "flex": null,
      "flex_flow": null,
      "grid_area": null,
      "grid_auto_columns": null,
      "grid_auto_flow": null,
      "grid_auto_rows": null,
      "grid_column": null,
      "grid_gap": null,
      "grid_row": null,
      "grid_template_areas": null,
      "grid_template_columns": null,
      "grid_template_rows": null,
      "height": null,
      "justify_content": null,
      "justify_items": null,
      "left": null,
      "margin": null,
      "max_height": null,
      "max_width": null,
      "min_height": null,
      "min_width": null,
      "object_fit": null,
      "object_position": null,
      "order": null,
      "overflow": null,
      "overflow_x": null,
      "overflow_y": null,
      "padding": null,
      "right": null,
      "top": null,
      "visibility": null,
      "width": null
     }
    },
    "c1049517a37242e69d84924859b63611": {
     "model_module": "@jupyter-widgets/controls",
     "model_module_version": "1.5.0",
     "model_name": "DescriptionStyleModel",
     "state": {
      "_model_module": "@jupyter-widgets/controls",
      "_model_module_version": "1.5.0",
      "_model_name": "DescriptionStyleModel",
      "_view_count": null,
      "_view_module": "@jupyter-widgets/base",
      "_view_module_version": "1.2.0",
      "_view_name": "StyleView",
      "description_width": ""
     }
    },
    "c1e4f3678eef4b76ba5743cc8802e9dd": {
     "model_module": "@jupyter-widgets/base",
     "model_module_version": "1.2.0",
     "model_name": "LayoutModel",
     "state": {
      "_model_module": "@jupyter-widgets/base",
      "_model_module_version": "1.2.0",
      "_model_name": "LayoutModel",
      "_view_count": null,
      "_view_module": "@jupyter-widgets/base",
      "_view_module_version": "1.2.0",
      "_view_name": "LayoutView",
      "align_content": null,
      "align_items": null,
      "align_self": null,
      "border": null,
      "bottom": null,
      "display": null,
      "flex": null,
      "flex_flow": null,
      "grid_area": null,
      "grid_auto_columns": null,
      "grid_auto_flow": null,
      "grid_auto_rows": null,
      "grid_column": null,
      "grid_gap": null,
      "grid_row": null,
      "grid_template_areas": null,
      "grid_template_columns": null,
      "grid_template_rows": null,
      "height": null,
      "justify_content": null,
      "justify_items": null,
      "left": null,
      "margin": null,
      "max_height": null,
      "max_width": null,
      "min_height": null,
      "min_width": null,
      "object_fit": null,
      "object_position": null,
      "order": null,
      "overflow": null,
      "overflow_x": null,
      "overflow_y": null,
      "padding": null,
      "right": null,
      "top": null,
      "visibility": null,
      "width": null
     }
    },
    "c5b129ac68a24ddab2e989c85ccfc3ee": {
     "model_module": "@jupyter-widgets/base",
     "model_module_version": "1.2.0",
     "model_name": "LayoutModel",
     "state": {
      "_model_module": "@jupyter-widgets/base",
      "_model_module_version": "1.2.0",
      "_model_name": "LayoutModel",
      "_view_count": null,
      "_view_module": "@jupyter-widgets/base",
      "_view_module_version": "1.2.0",
      "_view_name": "LayoutView",
      "align_content": null,
      "align_items": null,
      "align_self": null,
      "border": null,
      "bottom": null,
      "display": null,
      "flex": null,
      "flex_flow": null,
      "grid_area": null,
      "grid_auto_columns": null,
      "grid_auto_flow": null,
      "grid_auto_rows": null,
      "grid_column": null,
      "grid_gap": null,
      "grid_row": null,
      "grid_template_areas": null,
      "grid_template_columns": null,
      "grid_template_rows": null,
      "height": null,
      "justify_content": null,
      "justify_items": null,
      "left": null,
      "margin": null,
      "max_height": null,
      "max_width": null,
      "min_height": null,
      "min_width": null,
      "object_fit": null,
      "object_position": null,
      "order": null,
      "overflow": null,
      "overflow_x": null,
      "overflow_y": null,
      "padding": null,
      "right": null,
      "top": null,
      "visibility": null,
      "width": null
     }
    },
    "ca5bd4403fcf4cc3a98c886316aa72bb": {
     "model_module": "@jupyter-widgets/controls",
     "model_module_version": "1.5.0",
     "model_name": "HTMLModel",
     "state": {
      "_dom_classes": [],
      "_model_module": "@jupyter-widgets/controls",
      "_model_module_version": "1.5.0",
      "_model_name": "HTMLModel",
      "_view_count": null,
      "_view_module": "@jupyter-widgets/controls",
      "_view_module_version": "1.5.0",
      "_view_name": "HTMLView",
      "description": "",
      "description_tooltip": null,
      "layout": "IPY_MODEL_c00c90f299c04a1a847f14539dcd26f6",
      "placeholder": "​",
      "style": "IPY_MODEL_1bf8bde505974099a894c1eb9156c316",
      "value": " 714M/714M [00:03&lt;00:00, 209MB/s]"
     }
    },
    "e4ca8d01878b432c8e194b303392863a": {
     "model_module": "@jupyter-widgets/controls",
     "model_module_version": "1.5.0",
     "model_name": "HTMLModel",
     "state": {
      "_dom_classes": [],
      "_model_module": "@jupyter-widgets/controls",
      "_model_module_version": "1.5.0",
      "_model_name": "HTMLModel",
      "_view_count": null,
      "_view_module": "@jupyter-widgets/controls",
      "_view_module_version": "1.5.0",
      "_view_name": "HTMLView",
      "description": "",
      "description_tooltip": null,
      "layout": "IPY_MODEL_2885a55435204a35b880bb3045bb824a",
      "placeholder": "​",
      "style": "IPY_MODEL_7e0a1a540fec4a3ea658f8ceaaa17416",
      "value": "model.safetensors: 100%"
     }
    },
    "e7dde79ce4ec4fe8b3f757d82108a796": {
     "model_module": "@jupyter-widgets/controls",
     "model_module_version": "1.5.0",
     "model_name": "FloatProgressModel",
     "state": {
      "_dom_classes": [],
      "_model_module": "@jupyter-widgets/controls",
      "_model_module_version": "1.5.0",
      "_model_name": "FloatProgressModel",
      "_view_count": null,
      "_view_module": "@jupyter-widgets/controls",
      "_view_module_version": "1.5.0",
      "_view_name": "ProgressView",
      "bar_style": "success",
      "description": "",
      "description_tooltip": null,
      "layout": "IPY_MODEL_9ebbbfeafad140be8bc9b6ebbb29bb64",
      "max": 49,
      "min": 0,
      "orientation": "horizontal",
      "style": "IPY_MODEL_3739f9b7e84e4cc980961291a372e048",
      "value": 49
     }
    },
    "ee0ed90c6cc14ecc95e0cc0414e80159": {
     "model_module": "@jupyter-widgets/base",
     "model_module_version": "1.2.0",
     "model_name": "LayoutModel",
     "state": {
      "_model_module": "@jupyter-widgets/base",
      "_model_module_version": "1.2.0",
      "_model_name": "LayoutModel",
      "_view_count": null,
      "_view_module": "@jupyter-widgets/base",
      "_view_module_version": "1.2.0",
      "_view_name": "LayoutView",
      "align_content": null,
      "align_items": null,
      "align_self": null,
      "border": null,
      "bottom": null,
      "display": null,
      "flex": null,
      "flex_flow": null,
      "grid_area": null,
      "grid_auto_columns": null,
      "grid_auto_flow": null,
      "grid_auto_rows": null,
      "grid_column": null,
      "grid_gap": null,
      "grid_row": null,
      "grid_template_areas": null,
      "grid_template_columns": null,
      "grid_template_rows": null,
      "height": null,
      "justify_content": null,
      "justify_items": null,
      "left": null,
      "margin": null,
      "max_height": null,
      "max_width": null,
      "min_height": null,
      "min_width": null,
      "object_fit": null,
      "object_position": null,
      "order": null,
      "overflow": null,
      "overflow_x": null,
      "overflow_y": null,
      "padding": null,
      "right": null,
      "top": null,
      "visibility": null,
      "width": null
     }
    },
    "f6840589d90d48409c985dccf951037a": {
     "model_module": "@jupyter-widgets/controls",
     "model_module_version": "1.5.0",
     "model_name": "HTMLModel",
     "state": {
      "_dom_classes": [],
      "_model_module": "@jupyter-widgets/controls",
      "_model_module_version": "1.5.0",
      "_model_name": "HTMLModel",
      "_view_count": null,
      "_view_module": "@jupyter-widgets/controls",
      "_view_module_version": "1.5.0",
      "_view_name": "HTMLView",
      "description": "",
      "description_tooltip": null,
      "layout": "IPY_MODEL_a0f26e3d62f84a2e979ad40838f6e662",
      "placeholder": "​",
      "style": "IPY_MODEL_c1049517a37242e69d84924859b63611",
      "value": " 625/625 [00:00&lt;00:00, 43.8kB/s]"
     }
    }
   }
  }
 },
 "nbformat": 4,
 "nbformat_minor": 0
}
