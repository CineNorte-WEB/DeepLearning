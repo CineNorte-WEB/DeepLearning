{
 "cells": [
  {
   "cell_type": "code",
   "execution_count": 1,
   "id": "8147726f-1833-4d94-85ee-45c86fe65d4d",
   "metadata": {},
   "outputs": [],
   "source": [
    "from selenium import webdriver\n",
    "from selenium.webdriver.common.by import By\n",
    "from selenium.webdriver.common.keys import Keys\n",
    "from selenium.webdriver.chrome.options import Options\n",
    "from selenium.webdriver.chrome.service import Service\n",
    "from selenium.webdriver.support.ui import WebDriverWait\n",
    "from selenium.webdriver.support import expected_conditions as EC\n",
    "from bs4 import BeautifulSoup\n",
    "import os\n",
    "import requests\n",
    "import time\n",
    "import pandas as pd"
   ]
  },
  {
   "cell_type": "code",
   "execution_count": 2,
   "id": "dffdea32-9dde-40d6-81e3-4ad6670a6008",
   "metadata": {},
   "outputs": [],
   "source": [
    "# ChromeDriver 옵션 설정\n",
    "def initialize_webdriver():\n",
    "    options = Options()\n",
    "    options.add_experimental_option(\"excludeSwitches\", [\"enable-automation\"])  # 자동화 제어 메시지 숨기기\n",
    "    return webdriver.Chrome(options=options)"
   ]
  },
  {
   "cell_type": "markdown",
   "id": "bfa77fca-11df-4ab6-9679-6de2317c942c",
   "metadata": {},
   "source": [
    "#### 가게 상세 페이지 리뷰 크롤링함수"
   ]
  },
  {
   "cell_type": "code",
   "execution_count": 11,
   "id": "5cc3614b-4854-48dd-a0e5-2aa1ffcb500a",
   "metadata": {},
   "outputs": [],
   "source": [
    "def extract_visitor_reviews(driver, max_reviews=100):\n",
    "    reviews = []  # 방문자 리뷰 데이터를 저장할 리스트\n",
    "    review_count = 0  # 현재까지 수집된 리뷰의 개수\n",
    "    visited_reviews = set()  # 이미 수집한 리뷰를 추적하기 위한 set (중복 방지)\n",
    "\n",
    "    try:\n",
    "        while review_count < max_reviews:\n",
    "            page_source = driver.page_source\n",
    "            soup = BeautifulSoup(page_source, \"html.parser\")\n",
    "            \n",
    "            # 첫 번째 페이지에서 리뷰 크롤링\n",
    "            review_elements = soup.select(\"ul.list_evaluation > li\")\n",
    "            \n",
    "            # 새로운 리뷰만 수집 (이미 수집된 리뷰는 제외)\n",
    "            for review_element in review_elements:\n",
    "                if review_count >= max_reviews:\n",
    "                    break  # 최대 리뷰 개수에 도달하면 종료\n",
    "                \n",
    "                # 리뷰 텍스트 추출\n",
    "                comment = review_element.select_one(\"p.txt_comment\")\n",
    "                comment_text = comment.get_text(strip=True) if comment else \"리뷰 없음\"\n",
    "                \n",
    "                if comment_text not in visited_reviews:\n",
    "                    reviews.append(comment_text)\n",
    "                    visited_reviews.add(comment_text)  # 새로 수집한 리뷰를 기록\n",
    "                    review_count += 1\n",
    "            \n",
    "            # 만약 리뷰 개수가 충분치 않다면 \"후기 더보기\" 버튼을 클릭하여 더 많은 리뷰 로드\n",
    "            if review_count < max_reviews:\n",
    "                try:\n",
    "                    # \"후기 더보기\" 버튼이 있을 경우 클릭\n",
    "                    load_more_button = WebDriverWait(driver, 10).until(\n",
    "                        EC.element_to_be_clickable((By.CSS_SELECTOR, \"a.link_more\"))\n",
    "                    )\n",
    "                    load_more_button.click()\n",
    "                    time.sleep(3)  # 페이지 로딩 대기\n",
    "                    print(f\"{review_count}개의 리뷰를 수집했습니다. 더 많은 리뷰를 로딩 중...\")\n",
    "                except Exception as e:\n",
    "                    print(f\"후기 더보기 버튼 클릭 중 오류 발생: {e}\")\n",
    "                    break  # \"더보기\" 버튼이 없거나 클릭이 안 되는 경우 종료\n",
    "\n",
    "        return reviews\n",
    "\n",
    "    except Exception as e:\n",
    "        print(f\"방문자 리뷰 수집 중 오류 발생: {e}\")\n",
    "        return [\"후기가 제공되지 않는 가게입니다.\"]"
   ]
  },
  {
   "cell_type": "code",
   "execution_count": 12,
   "id": "c156b45d-dca1-49d1-b905-ba41a41d7c71",
   "metadata": {},
   "outputs": [
    {
     "name": "stdout",
     "output_type": "stream",
     "text": [
      "카카오맵 접속 중...\n",
      "카카오맵 접속 완료!\n",
      "검색창에 가게명 입력 중...\n",
      "'쿳사 연희' 검색 완료!\n",
      "투명 레이어 제거 완료!\n",
      "검색 결과에서 상세 페이지 링크 클릭 대기 중...\n",
      "상세 페이지 링크 찾기 완료!\n",
      "상세 페이지 링크 클릭 중...\n",
      "상세 페이지로 이동 완료!\n",
      "3개의 리뷰를 수집했습니다. 더 많은 리뷰를 로딩 중...\n",
      "3개의 리뷰를 수집했습니다. 더 많은 리뷰를 로딩 중...\n",
      "3개의 리뷰를 수집했습니다. 더 많은 리뷰를 로딩 중...\n",
      "3개의 리뷰를 수집했습니다. 더 많은 리뷰를 로딩 중...\n",
      "3개의 리뷰를 수집했습니다. 더 많은 리뷰를 로딩 중...\n",
      "3개의 리뷰를 수집했습니다. 더 많은 리뷰를 로딩 중...\n",
      "3개의 리뷰를 수집했습니다. 더 많은 리뷰를 로딩 중...\n",
      "브라우저 종료 완료.\n"
     ]
    },
    {
     "ename": "KeyboardInterrupt",
     "evalue": "",
     "output_type": "error",
     "traceback": [
      "\u001b[0;31m---------------------------------------------------------------------------\u001b[0m",
      "\u001b[0;31mKeyboardInterrupt\u001b[0m                         Traceback (most recent call last)",
      "Cell \u001b[0;32mIn[12], line 43\u001b[0m\n\u001b[1;32m     40\u001b[0m \u001b[38;5;28mprint\u001b[39m(\u001b[38;5;124m\"\u001b[39m\u001b[38;5;124m상세 페이지로 이동 완료!\u001b[39m\u001b[38;5;124m\"\u001b[39m)\n\u001b[1;32m     42\u001b[0m \u001b[38;5;66;03m# 리뷰 크롤링\u001b[39;00m\n\u001b[0;32m---> 43\u001b[0m reviews \u001b[38;5;241m=\u001b[39m extract_visitor_reviews(driver, max_reviews\u001b[38;5;241m=\u001b[39m\u001b[38;5;241m100\u001b[39m)\n\u001b[1;32m     44\u001b[0m \u001b[38;5;28;01mif\u001b[39;00m reviews:\n\u001b[1;32m     45\u001b[0m     \u001b[38;5;28mprint\u001b[39m(reviews)\n",
      "Cell \u001b[0;32mIn[11], line 36\u001b[0m, in \u001b[0;36mextract_visitor_reviews\u001b[0;34m(driver, max_reviews)\u001b[0m\n\u001b[1;32m     32\u001b[0m     load_more_button \u001b[38;5;241m=\u001b[39m WebDriverWait(driver, \u001b[38;5;241m10\u001b[39m)\u001b[38;5;241m.\u001b[39muntil(\n\u001b[1;32m     33\u001b[0m         EC\u001b[38;5;241m.\u001b[39melement_to_be_clickable((By\u001b[38;5;241m.\u001b[39mCSS_SELECTOR, \u001b[38;5;124m\"\u001b[39m\u001b[38;5;124ma.link_more\u001b[39m\u001b[38;5;124m\"\u001b[39m))\n\u001b[1;32m     34\u001b[0m     )\n\u001b[1;32m     35\u001b[0m     load_more_button\u001b[38;5;241m.\u001b[39mclick()\n\u001b[0;32m---> 36\u001b[0m     time\u001b[38;5;241m.\u001b[39msleep(\u001b[38;5;241m3\u001b[39m)  \u001b[38;5;66;03m# 페이지 로딩 대기\u001b[39;00m\n\u001b[1;32m     37\u001b[0m     \u001b[38;5;28mprint\u001b[39m(\u001b[38;5;124mf\u001b[39m\u001b[38;5;124m\"\u001b[39m\u001b[38;5;132;01m{\u001b[39;00mreview_count\u001b[38;5;132;01m}\u001b[39;00m\u001b[38;5;124m개의 리뷰를 수집했습니다. 더 많은 리뷰를 로딩 중...\u001b[39m\u001b[38;5;124m\"\u001b[39m)\n\u001b[1;32m     38\u001b[0m \u001b[38;5;28;01mexcept\u001b[39;00m \u001b[38;5;167;01mException\u001b[39;00m \u001b[38;5;28;01mas\u001b[39;00m e:\n",
      "\u001b[0;31mKeyboardInterrupt\u001b[0m: "
     ]
    }
   ],
   "source": [
    "# 메인 실행\n",
    "if __name__ == \"__main__\":\n",
    "    driver = initialize_webdriver()\n",
    "    try:\n",
    "        # 1. 카카오맵 접속\n",
    "        print(\"카카오맵 접속 중...\")\n",
    "        driver.get(\"https://map.kakao.com/\")\n",
    "        time.sleep(2)\n",
    "        print(\"카카오맵 접속 완료!\")\n",
    "\n",
    "        # 2. 검색어 입력\n",
    "        place_name = \"쿳사 연희\"  # 검색할 가게명\n",
    "        print(\"검색창에 가게명 입력 중...\")\n",
    "        search_box = driver.find_element(By.ID, \"search.keyword.query\")\n",
    "        search_box.send_keys(place_name)\n",
    "        search_box.send_keys(Keys.RETURN)\n",
    "        time.sleep(2)\n",
    "        print(f\"'{place_name}' 검색 완료!\")\n",
    "\n",
    "        # 3. 투명 레이어 제거\n",
    "        try:\n",
    "            dimmed_layer = driver.find_element(By.ID, \"dimmedLayer\")\n",
    "            driver.execute_script(\"arguments[0].style.display = 'none';\", dimmed_layer)\n",
    "            print(\"투명 레이어 제거 완료!\")\n",
    "        except Exception as e:\n",
    "            print(\"투명 레이어가 존재하지 않습니다. 계속 진행합니다.\")\n",
    "\n",
    "        # 4. 검색 결과에서 상세 페이지 링크 클릭\n",
    "        print(\"검색 결과에서 상세 페이지 링크 클릭 대기 중...\")\n",
    "        WebDriverWait(driver, 10).until(\n",
    "            EC.presence_of_element_located((By.CSS_SELECTOR, \"div.MediumTooltip a\"))\n",
    "        )\n",
    "        print(\"상세 페이지 링크 찾기 완료!\")\n",
    "\n",
    "        print(\"상세 페이지 링크 클릭 중...\")\n",
    "        detail_link = driver.find_element(By.CSS_SELECTOR, \"div.MediumTooltip a\")\n",
    "        detail_url = detail_link.get_attribute(\"href\")  # 링크 주소 추출\n",
    "        driver.get(detail_url)  # 상세페이지로 이동\n",
    "        time.sleep(2)\n",
    "        print(\"상세 페이지로 이동 완료!\")\n",
    "\n",
    "        # 리뷰 크롤링\n",
    "        reviews = extract_visitor_reviews(driver, max_reviews=100)\n",
    "        if reviews:\n",
    "            print(reviews)\n",
    "        else:\n",
    "            print(\"리뷰 크롤링 결과 없음.\")\n",
    "\n",
    "    except Exception as e:\n",
    "        print(f\"오류 발생: {e}\")\n",
    "    finally:\n",
    "        driver.quit()\n",
    "        print(\"브라우저 종료 완료.\")"
   ]
  },
  {
   "cell_type": "code",
   "execution_count": null,
   "id": "3014e808-d586-4999-b8a3-b4dec9820bee",
   "metadata": {},
   "outputs": [],
   "source": []
  }
 ],
 "metadata": {
  "kernelspec": {
   "display_name": "Python 3 (ipykernel)",
   "language": "python",
   "name": "python3"
  },
  "language_info": {
   "codemirror_mode": {
    "name": "ipython",
    "version": 3
   },
   "file_extension": ".py",
   "mimetype": "text/x-python",
   "name": "python",
   "nbconvert_exporter": "python",
   "pygments_lexer": "ipython3",
   "version": "3.11.5"
  }
 },
 "nbformat": 4,
 "nbformat_minor": 5
}
